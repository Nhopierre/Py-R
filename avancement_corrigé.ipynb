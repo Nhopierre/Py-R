{
 "cells": [
  {
   "cell_type": "markdown",
   "metadata": {},
   "source": [
    "## Chap 02 - Evolution d'un système chimique"
   ]
  },
  {
   "cell_type": "markdown",
   "metadata": {},
   "source": [
    "<div class = 'alert alert-info'>\n",
    "    <h1>Comment construire un tableau d'avancement avec Python?</h1>\n",
    "    </div>"
   ]
  },
  {
   "cell_type": "markdown",
   "metadata": {},
   "source": [
    "<div class = 'alert alert-info'>\n",
    "Pour exécuter le code écrit dans un bloc : <b>MAJ-ENTREE </b><br>\n",
    "    Pour recommencer depuis le début : Menu <b>Kernel / Restart and clear output </b><br>\n",
    "    Toujours exécuter dans l'ordre le code  écrit dans les blocs précédés de la mention <b>Entrée  [  ]</b>\n",
    "</div>"
   ]
  },
  {
   "cell_type": "markdown",
   "metadata": {},
   "source": [
    "\n",
    "## 1. préparation."
   ]
  },
  {
   "cell_type": "markdown",
   "metadata": {},
   "source": [
    "\n",
    "<div class = 'alert alert-warning'>\n",
    "On considère la réaction entre les ions permanganate MnO<SUB>4</SUB><SUP>–</SUP> (du couple MnO<SUB>4</SUB><SUP>–</SUP>/Mn<SUP>2+</SUP>) et les ions fer II, Fe<SUP>2+</SUP> (du couple Fe<SUP>3+</SUP> /Fe<SUP>2+</SUP>).<br> \n",
    "<hr>\n",
    "a) Parmi les deux réactifs, identifier l’oxydant et le réducteur. <br>\n",
    "b) Ecrire pour chaque couple la demi-équation dans le bon sens (oxydation ou réduction) <br>\n",
    "c) En déduire l’équation de la réaction. (REA)\n",
    "    <hr>\n",
    "On suppose que l’on mélange un volume V<SUB>ox</SUB> = 100 mL de solution d’ions permanganate de concentration C<SUB>ox</SUB> = 4,0.10<SUP>–1</SUP> mol/L et un volume V<SUB>red</SUB> = 200 mL de solution d’ion fer II de concentration C<SUB>red</SUB> = 5,0.10<SUP>–1</SUP> mol/L<br>\n",
    "<hr>\n",
    "    d) Déterminer les quantités initiales de chaque réactif. (REA)\n",
    "</div>"
   ]
  },
  {
   "cell_type": "markdown",
   "metadata": {},
   "source": [
    "## 2. Evolution du système."
   ]
  },
  {
   "cell_type": "markdown",
   "metadata": {},
   "source": [
    "<div class = 'alert alert-warning'>\n",
    "a) Construire le tableau d’avancement du système en supposant que les ions hydrogène H<SUP>+</SUP> sont en excès. (REA)<br>\n",
    "b) Quel est le réactif limitant ? <br>\n",
    "c) En déduire la composition de l’état final. (REA)\n",
    "</div>"
   ]
  },
  {
   "cell_type": "markdown",
   "metadata": {},
   "source": [
    "## 3. Calcul d'un état du système avec python."
   ]
  },
  {
   "cell_type": "markdown",
   "metadata": {},
   "source": [
    "#### Quantités initiales de réactifs en mmol\n",
    "<div class = 'alert alert-warning'>\n",
    "Compléter les quantités initiales de réactifs et de produits exprimées en mmol\n",
    "</div>"
   ]
  },
  {
   "cell_type": "code",
   "execution_count": null,
   "metadata": {},
   "outputs": [],
   "source": [
    "qte_initiale_ionFeII = 100\n",
    "qte_initiale_MnO4 = 40\n",
    "qte_initiale_ionH = 1000"
   ]
  },
  {
   "cell_type": "markdown",
   "metadata": {},
   "source": [
    "#### Quantités initiales de produits en mmol"
   ]
  },
  {
   "cell_type": "code",
   "execution_count": null,
   "metadata": {},
   "outputs": [],
   "source": [
    "qte_initiale_ionFeIII = 0\n",
    "qte_initiale_ionMn = 0"
   ]
  },
  {
   "cell_type": "markdown",
   "metadata": {},
   "source": [
    "### Avancement"
   ]
  },
  {
   "cell_type": "markdown",
   "metadata": {},
   "source": [
    "#### Fonction calculant la composition d'un état particulier\n",
    "<div class = 'alert alert-warning'>\n",
    "Compléter la fonction nommée <code class = \"python\">état_particulier( )</code> avec les instructions qui permettront de calculer les quantités de matière de chaque espèce présente dans le système pour un avancement <code class = \"python\">x</code> à la fonction. \n",
    "    </div>"
   ]
  },
  {
   "cell_type": "code",
   "execution_count": null,
   "metadata": {},
   "outputs": [],
   "source": [
    "def etat_particulier(x):\n",
    "    qte_ionFeII = qte_initiale_ionFeII - 5*x\n",
    "    qte_MnO4 = qte_initiale_MnO4 - x\n",
    "    qte_ionH = qte_initiale_ionH - 8*x\n",
    "    qte_ionFeIII = qte_initiale_ionFeIII + 5*x\n",
    "    qte_ionMn = qte_initiale_ionMn + x\n",
    "\n",
    "    #Sortie  #############################\n",
    "    print(\"pour x =\",x,\" n(Fe2+)=\",qte_ionFeII,\" n(MnO4-)=\",qte_MnO4,\" n(H+)=\",qte_ionH,\" n(Fe3+)=\",qte_ionFeIII,\" n(Mn2+)=\",qte_ionMn)"
   ]
  },
  {
   "cell_type": "markdown",
   "metadata": {},
   "source": [
    "#### Vérification de la fonction\n",
    "<div class = 'alert alert-warning'>\n",
    "- Vérifier la bonne exécution du programme pour x = 0. (VAL)<br>\n",
    "- Choisir une autre valeur de x et exécuter le programme. Vérifier la cohérence des résultats. (VAL)\n",
    "</div>"
   ]
  },
  {
   "cell_type": "code",
   "execution_count": null,
   "metadata": {},
   "outputs": [],
   "source": [
    "x = 0\n",
    "etat_particulier(x)"
   ]
  },
  {
   "cell_type": "code",
   "execution_count": null,
   "metadata": {},
   "outputs": [],
   "source": [
    "x = 10\n",
    "etat_particulier(x)"
   ]
  },
  {
   "cell_type": "markdown",
   "metadata": {},
   "source": [
    "## 4. Evolution des quantités de matière de chaque espèce. Création d’un tableau de valeur"
   ]
  },
  {
   "cell_type": "markdown",
   "metadata": {},
   "source": [
    "<div class = 'alert alert-warning'>\n",
    "Compléter le bloc de code avec une boucle <code class = \"python\">for ...</code> qui calcule les différents états du système au cours de son évolution depuis l’état initial (x = 0) jusqu’à la valeur maximale de x<sub>final</sub> choisie. (REA)<br>\n",
    "La boucle fera appel à la fonction <code class = \"python\">état_particulier( )</code>.\n",
    "    </div>"
   ]
  },
  {
   "cell_type": "code",
   "execution_count": null,
   "metadata": {},
   "outputs": [],
   "source": [
    "x_final = 25\n",
    "\n",
    "for x in range(0,x_final):\n",
    "    etat_particulier(x)                               # appel de la fonction"
   ]
  },
  {
   "cell_type": "markdown",
   "metadata": {},
   "source": [
    "<div class = 'alert alert-warning'>\n",
    "Quelle est la valeur de x<sub>max</sub>?  (VAL)\n",
    "    </div>"
   ]
  },
  {
   "cell_type": "markdown",
   "metadata": {},
   "source": [
    "## 5. Recherche du réactif limitant."
   ]
  },
  {
   "cell_type": "markdown",
   "metadata": {},
   "source": [
    "<div class = 'alert alert-warning'>\n",
    "- Comment calculer la valeur maximale de l’avancement si l’on suppose que l’ion Fer II est le réactif limitant ?<br>\n",
    "- Compléter la ligne qui permet de calculer <code class = \"python\">x_max_ionFeII</code>.<br>\n",
    "- Même question pour <code class = \"python\">x_max_MnO4</code> (hypothèse : ion permanganate limitant)\n",
    "    </div>"
   ]
  },
  {
   "cell_type": "code",
   "execution_count": null,
   "metadata": {},
   "outputs": [],
   "source": [
    "x_max_ionFeII = qte_initiale_ionFeII/5          # calcul de x_max si l'ion Fe2+ est le réactif limitant\n",
    "x_max_MnO4 = qte_initiale_MnO4/1                # calcul de x_max si l'ion MnO4- est le réactif limitant\n"
   ]
  },
  {
   "cell_type": "markdown",
   "metadata": {},
   "source": [
    "<div class = 'alert alert-warning'>\n",
    "Compléter le programme avec un test conditionnel <br>\n",
    "<code class = \"python\">if … : </code>&nbsp;&nbsp;&nbsp;&nbsp;&nbsp;&nbsp; Si ..., alors...<br>\n",
    "    <code class = \"python\">elif … : </code>   sinon si ... ,alors ...<br>\n",
    "    <code class = \"python\">else :</code>&nbsp;&nbsp;&nbsp;&nbsp;&nbsp;&nbsp; sinon ... <br>\n",
    "qui conserve la bonne valeur de x<sub>max</sub>.\n",
    "    <hr>\n",
    "    Comment nomme-t-on un mélange dans lequel plusieurs réactifs sont simulanément limitants ?<br>\n",
    "    Compléter la ligne <code class = \"python\">nom ='...' </code> et les deux tests <code class = \"python\">if '...' </code> et <code class = \"python\">elif '...' </code>\n",
    "</div>"
   ]
  },
  {
   "cell_type": "code",
   "execution_count": null,
   "metadata": {},
   "outputs": [],
   "source": [
    "nom = 'stoechiométrique'\n",
    "\n",
    "if x_max_ionFeII < x_max_MnO4 :\n",
    "    print(\"le réactif limitant est Fe2+ et x_max = \",x_max_ionFeII,\" mmol\")\n",
    "    x_max = x_max_ionFeII\n",
    "elif x_max_ionFeII > x_max_MnO4 :\n",
    "    print(\"le réactif limitant est MnO4- et x_max = \",x_max_MnO4,\" mmol\")\n",
    "    x_max = x_max_MnO4\n",
    "else:\n",
    "    print(\"le mélange est \",nom,\" et x_max = \",x_max_MnO4,\" mmol\")\n"
   ]
  },
  {
   "cell_type": "markdown",
   "metadata": {},
   "source": [
    "<div class = 'alert alert-warning'>Exécuter le dernier bloc appelant la fonction <code class = \"python\">état_particulier( )</code> en lui passant l'argument <code class = \"python\">x_max</code> et vérifier vos résultats.</div>"
   ]
  },
  {
   "cell_type": "code",
   "execution_count": null,
   "metadata": {},
   "outputs": [],
   "source": [
    "etat_particulier(x_max)"
   ]
  },
  {
   "cell_type": "markdown",
   "metadata": {},
   "source": [
    "## 6. Mélange stoechiométrique. "
   ]
  },
  {
   "cell_type": "markdown",
   "metadata": {},
   "source": [
    "<div class = 'alert alert-warning'>\n",
    "On suppose à présent que le mélange contient initialement 75 mmol d'ion Fe<sup>2+</sup>.\n",
    "    </div>"
   ]
  },
  {
   "cell_type": "code",
   "execution_count": null,
   "metadata": {},
   "outputs": [],
   "source": [
    "qte_initiale_ionFeII = 75\n",
    "qte_initiale_ionH = 1000"
   ]
  },
  {
   "cell_type": "markdown",
   "metadata": {},
   "source": [
    "<div class = 'alert alert-warning'>\n",
    "    a) Quelle quantité d'ions permanganate MnO<SUB>4</SUB><SUP>–</SUP> faut-il introduire dans le mélange pour qu'il soit stoechiométrique? <br> \n",
    "b) Calculer l'avancement maximal correspondant<br><hr>\n",
    "Compléter les lignes correspondantes et tester votre hypothèse (VAL)\n",
    "</div>"
   ]
  },
  {
   "cell_type": "code",
   "execution_count": null,
   "metadata": {},
   "outputs": [],
   "source": [
    "qte_initiale_MnO4 =            # à compléter\n",
    "\n",
    "x_max =                         # à compléter\n",
    "\n",
    "###########   Calcul de l'état final du système   ##################\n",
    "\n",
    "x_max_ionFeII = qte_initiale_ionFeII/5\n",
    "x_max_MnO4 = qte_initiale_MnO4/1\n",
    "\n",
    "if x_max_ionFeII < x_max_MnO4 :\n",
    "    print(\"le réactif limitant est Fe2+ et x_max = \",x_max_ionFeII,\" mmol\")\n",
    "    x_max = x_max_ionFeII\n",
    "elif x_max_ionFeII > x_max_MnO4 :\n",
    "    print(\"le réactif limitant est MnO4- et x_max = \",x_max_MnO4,\" mmol\")\n",
    "    x_max = x_max_MnO4\n",
    "else:\n",
    "    print(\"le mélange est \",nom,\" et x_max = \",x_max_MnO4,\" mmol\") \n",
    "    \n",
    "etat_particulier(x_max)"
   ]
  },
  {
   "cell_type": "markdown",
   "metadata": {},
   "source": [
    "## C'est fini\n",
    "Il ne reste plus qu'à télécharger le fichier !"
   ]
  },
  {
   "cell_type": "markdown",
   "metadata": {},
   "source": [
    "<div class = 'alert alert-success'><h4>La commande suivante imprime toutes les lignes de code exécutées depuis la dernière initialisation de la page (Restart and Clear Output) <br><br>Cela permet de les copier dans Spyder ou dans un fichier .text par exemple.</h4></div>"
   ]
  },
  {
   "cell_type": "code",
   "execution_count": null,
   "metadata": {},
   "outputs": [],
   "source": [
    "%history"
   ]
  }
 ],
 "metadata": {
  "kernelspec": {
   "display_name": "Python 3",
   "language": "python",
   "name": "python3"
  },
  "language_info": {
   "codemirror_mode": {
    "name": "ipython",
    "version": 3
   },
   "file_extension": ".py",
   "mimetype": "text/x-python",
   "name": "python",
   "nbconvert_exporter": "python",
   "pygments_lexer": "ipython3",
   "version": "3.7.6"
  }
 },
 "nbformat": 4,
 "nbformat_minor": 4
}

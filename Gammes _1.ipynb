{
 "cells": [
  {
   "cell_type": "markdown",
   "metadata": {},
   "source": [
    "# Comment calculer les fréquences de la gamme de Pythagore et de la gamme tempérée ?"
   ]
  },
  {
   "cell_type": "code",
   "execution_count": null,
   "metadata": {},
   "outputs": [],
   "source": [
    "import math\n",
    "import matplotlib\n",
    "\n",
    "import matplotlib.pyplot as plt\n",
    "\n",
    "%matplotlib notebook"
   ]
  },
  {
   "cell_type": "markdown",
   "metadata": {},
   "source": [
    "Définition de la fréquence de la note la plus basse."
   ]
  },
  {
   "cell_type": "code",
   "execution_count": null,
   "metadata": {},
   "outputs": [],
   "source": [
    "note_1 = 440           # fréquence d'un la exprimée en Hz"
   ]
  },
  {
   "cell_type": "markdown",
   "metadata": {},
   "source": [
    "Liste contenant les noms des notes de la gamme en partant du la."
   ]
  },
  {
   "cell_type": "code",
   "execution_count": null,
   "metadata": {},
   "outputs": [],
   "source": [
    "notes = ['la ','la#','si ','do ','do#','re ','re#','mi ','fa ','fa#','sol ','sol#']"
   ]
  },
  {
   "cell_type": "markdown",
   "metadata": {},
   "source": [
    "Manipulation des listes\n",
    "- Liste.append(Elément) : rajoute Elément à la fin de la liste\n",
    "- Liste.sort() : clsse les éléments d'une liste par ordre croissant\n",
    "- len(Liste) est un entier égal au nombre d'éléments de Liste"
   ]
  },
  {
   "cell_type": "markdown",
   "metadata": {},
   "source": [
    "### Fonction calculant les fréquences de la gamme tempérée pour les stocker dans une liste."
   ]
  },
  {
   "cell_type": "markdown",
   "metadata": {},
   "source": [
    "Complétez la fonction ci-dessous qui à partir du paramètre freq_initial\n",
    "- calcule les 11 autres fréquences de la gamme.\n",
    "- ajoute chaque nouvelle fréquence dans la liste.\n",
    "\n",
    "Rappel :\n",
    "Dans la gamme tempérée tous les \"intervalles\" entre deux notes successives sont égaux et valent 2 à la puissance (1/12)  "
   ]
  },
  {
   "cell_type": "code",
   "execution_count": null,
   "metadata": {},
   "outputs": [],
   "source": [
    "def gamme_temperee(freq_initial) :\n",
    "    gamme = []                    # Création d'une liste vide\n",
    "    demiton = 2**(1/12)\n",
    "    gamme.append(freq_initial)    # écriture de la première valeur dans la liste\n",
    "    frequence = freq_initial\n",
    "    for i in range(0,11):\n",
    "        frequence = ...           # calcul de la fréquence suivante\n",
    "        ...                       # ajout de cette fréquence dans la liste\n",
    "    \n",
    "    return gamme"
   ]
  },
  {
   "cell_type": "markdown",
   "metadata": {},
   "source": [
    "### Fonction calculant les fréquences de la gamme de pythagore pour les stocker dans une liste."
   ]
  },
  {
   "cell_type": "markdown",
   "metadata": {},
   "source": [
    "Complétez la fonction ci-dessous qui à partir du paramètre freq_initial\n",
    "- calcule les 11 autres fréquences de la gamme.\n",
    "- ajoute chaque nouvelle fréquence dans la liste.\n",
    "- remet les frequences de la liste dans l'ordre croissant\n",
    "\n",
    "\n",
    "\n",
    "Rappel\n",
    "- Une quinte est un intervalle entre deux notes dont le rapport des fréquences est 3/2.\n",
    "- Toutes les notes d'une gamme se trouve dans la même octave. Aucune note ne peut avoir une fréquence supérieure ou égale au double de la fréquence de la note d'origine."
   ]
  },
  {
   "cell_type": "code",
   "execution_count": null,
   "metadata": {},
   "outputs": [],
   "source": [
    "def gamme_pythagore(freq_initial):\n",
    "    gamme = []                      # Création d'une liste vide\n",
    "    gamme.append(freq_initial)      # écriture de la première valeur dans la liste\n",
    "    frequence = freq_initial\n",
    "    for i in range(0,11):\n",
    "        frequence = ...             # calcul de la fréquence de la quinte suivante\n",
    "        if ...                      # teste si la fréquence se situe dans la bonne octave\n",
    "            ...                     # et calcule la fréquence si nécessaire \n",
    "        gamme.append(frequence)     # ajout de cette fréquence dans la liste\n",
    "            \n",
    "    gamme.sort()                    # remet les fréqeunce dans l'ordre croissant\n",
    "    \n",
    "    return gamme\n"
   ]
  },
  {
   "cell_type": "markdown",
   "metadata": {},
   "source": [
    "Appel des deux fonctions avec le paramètre note_1. \n",
    "- Affecte la liste des fréquences de la gamme de pythagore à la variable gamme_p.\n",
    "- Affecte la liste des fréquences de la gamme tempérée à la variable gamme_t.\n"
   ]
  },
  {
   "cell_type": "code",
   "execution_count": null,
   "metadata": {},
   "outputs": [],
   "source": [
    "gamme_p = gamme_pythagore(note_1) \n",
    "gamme_t = ...                       # à compléter"
   ]
  },
  {
   "cell_type": "code",
   "execution_count": null,
   "metadata": {},
   "outputs": [],
   "source": [
    "### Impression des valeurs des fréquences"
   ]
  },
  {
   "cell_type": "markdown",
   "metadata": {},
   "source": [
    "Imprimer le nom de chaque note suivie des valeurs de sa fréquence dans la gamme tempérée et dans la gamme de Pythagore.\n",
    "\n",
    "- Utiliser une boucle et la fonction print()\n"
   ]
  },
  {
   "cell_type": "code",
   "execution_count": null,
   "metadata": {},
   "outputs": [],
   "source": [
    "for i  ...                          # à compléter"
   ]
  },
  {
   "cell_type": "markdown",
   "metadata": {},
   "source": [
    "# C'est fini"
   ]
  }
 ],
 "metadata": {
  "kernelspec": {
   "display_name": "Python 3",
   "language": "python",
   "name": "python3"
  },
  "language_info": {
   "codemirror_mode": {
    "name": "ipython",
    "version": 3
   },
   "file_extension": ".py",
   "mimetype": "text/x-python",
   "name": "python",
   "nbconvert_exporter": "python",
   "pygments_lexer": "ipython3",
   "version": "3.7.6"
  }
 },
 "nbformat": 4,
 "nbformat_minor": 4
}

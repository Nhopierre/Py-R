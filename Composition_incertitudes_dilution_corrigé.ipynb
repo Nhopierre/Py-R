{
 "cells": [
  {
   "cell_type": "markdown",
   "metadata": {},
   "source": [
    "# Simulation d'une incertitude composée"
   ]
  },
  {
   "cell_type": "markdown",
   "metadata": {},
   "source": [
    "<div class = 'alert alert-info'>\n",
    "Pour exécuter le code écrit dans un bloc : <b>MAJ-ENTREE </b><br>\n",
    "    Pour recommencer depuis le début : Menu <b>Kernel / Restart and clear output </b><br>\n",
    "    Toujours exécuter dans l'ordre le code  écrit dans les blocs précédés de la mention <b>Entrée  [  ]</b>\n",
    "</div>"
   ]
  },
  {
   "cell_type": "markdown",
   "metadata": {},
   "source": [
    "<div class = 'alert alert-warning'>Importation des modules de calcul et de tracé de courbe.\n",
    "    </div>"
   ]
  },
  {
   "cell_type": "code",
   "execution_count": null,
   "metadata": {},
   "outputs": [],
   "source": [
    "import random\n",
    "import numpy as np\n",
    "import matplotlib.pyplot as plt"
   ]
  },
  {
   "cell_type": "markdown",
   "metadata": {},
   "source": [
    "## 1. Données et calcul de la concentration visée."
   ]
  },
  {
   "cell_type": "markdown",
   "metadata": {},
   "source": [
    "<div class = 'alert alert-warning'>Compléter les valeurs des moyennes et de l'incertitude pour chaque grandeur.\n",
    "    </div>"
   ]
  },
  {
   "cell_type": "code",
   "execution_count": null,
   "metadata": {},
   "outputs": [],
   "source": [
    "V_dilue = 100\n",
    "u_V_dilue = 0.3\n",
    "V_preleve = 10\n",
    "u_V_preleve = 0.3\n",
    "C_mere = 100\n",
    "u_C_mere = 2\n",
    "\n",
    "nombre_mesures = 8"
   ]
  },
  {
   "cell_type": "markdown",
   "metadata": {},
   "source": [
    "<div class = 'alert alert-warning'>Compléter l'expression qui donne la valeur de concentration de la solution diluée.\n",
    "    </div>"
   ]
  },
  {
   "cell_type": "code",
   "execution_count": null,
   "metadata": {},
   "outputs": [],
   "source": [
    "C_dilue = C_mere*V_preleve/V_dilue\n",
    "print('Valeur-cible de la concentration de la solution diluée :' , C_dilue)"
   ]
  },
  {
   "cell_type": "markdown",
   "metadata": {},
   "source": [
    "## 2. Calcul de l'incertitude composée à partir des incertitudes sur les données."
   ]
  },
  {
   "cell_type": "markdown",
   "metadata": {},
   "source": [
    "<div class = 'alert alert-info'>\n",
    "L'incertitude relative sur le résultat du calcul (concentration de la solution diluée) est donnée par l'expression.\n",
    "<br>\n",
    "\\begin{align}\n",
    "\\frac{u(C_{dilue})}{C_{dilue}}=\\sqrt{\\left ( \\frac{u(V_{mere})}{V_{mere}} \\right )^2+\\left ( \\frac{u(V_{dilue})}{V_{dilue}} \\right )^2+\\left ( \\frac{u(C_{mere})}{C_{mere}} \\right )^2}\n",
    "\\end{align}\n",
    "    <hr>\n",
    "    On peut en déduire une incertitude-type donnée par : \n",
    "    \\begin{align}\n",
    "u(C_{dilue-type})= 2 \\:  \\times   \\frac{u(C_{dilue})}{\\sqrt{nombre\\, de\\, mesures}}\n",
    "\\end{align}\n",
    "     </div>\n",
    "    <div class = 'alert alert-warning'>\n",
    "    Compléter les lignes permettant de calculer l'incertitude absolue : <br>\n",
    "    \\begin{align}\n",
    "u(C_{dilue})\n",
    "\\end{align}\n",
    "    <br>\n",
    "    On effectuera le calcul en plusieurs étapes afin de limiter la longueur des ligne de code.<br>\n",
    "</div>"
   ]
  },
  {
   "cell_type": "code",
   "execution_count": null,
   "metadata": {},
   "outputs": [],
   "source": [
    "carre_composition = (u_C_mere/C_mere)**2+(u_V_preleve/V_preleve)**2+(u_V_dilue/V_dilue)**2\n",
    "u_C_dilue = C_dilue*(carre_composition)**0.5\n",
    "\n",
    "u_C_dilue_type = u_C_dilue/(nombre_mesures)**0.5*2\n",
    "\n",
    "print('valeur cible = ',C_dilue)\n",
    "print('incertitude composée = ',u_C_dilue_type )"
   ]
  },
  {
   "cell_type": "markdown",
   "metadata": {},
   "source": [
    "<div class = 'alert alert-warning'>Exprimer le résultat avec son incertitude.\n",
    "    </div>"
   ]
  },
  {
   "cell_type": "markdown",
   "metadata": {},
   "source": [
    "## 3. Simulation d'une série de mesures."
   ]
  },
  {
   "cell_type": "markdown",
   "metadata": {},
   "source": [
    "<div class = 'alert alert-info'>\n",
    "Pour vérifier que notre estimation de l'incertitude est correcte, nous allons simuler un grand nombre de mesures qui suivent une loi normale pour chaque grandeur.<br>\n",
    "    On calculera ensuite la valeur-vraie de la concentration diluée pour chaque mesure.<br>\n",
    "    Puis on estimera la moyenne de ces valeurs-vraies.\n",
    "</div>"
   ]
  },
  {
   "cell_type": "markdown",
   "metadata": {},
   "source": [
    "## 3.1. Fonction simulant une série de mesure."
   ]
  },
  {
   "cell_type": "markdown",
   "metadata": {},
   "source": [
    "<div class = 'alert alert-warning'>\n",
    "La fonction reçoit comme argument la valeur d'une grandeur, son incertitude et le nombre de mesures.<br>\n",
    "    la fonction renvoie un tableau contenant de mesures aléatoires qui suivent une loi normale dont la répartition a <br>\n",
    "    - pour moyenne, le premier argument <code class = \"python\">valeur</code> et <br>\n",
    "    - pour écart-type, le deuxième argument <code class = \"python\">incertitude</code>.<br><br>\n",
    "    Le nombre d'éléments du tableau est noté <code class = \"python\">nombre_mesures</code><br><br>\n",
    "    Chacune de ces mesures est une <b>valeur-vraie</b> que l'expérimentateur ne connaît pas puisqu'il vise la valeur-cible correspondant à la moyenne de la simulation (absence d'erreur systématique)\n",
    "    </div>"
   ]
  },
  {
   "cell_type": "code",
   "execution_count": null,
   "metadata": {},
   "outputs": [],
   "source": [
    "def mesures_normale (valeur,incertitude,nombres_mesures):\n",
    "    tableau_mesures = np.array([])                                       # création d'un tableau vide\n",
    "    for i in range (0,nombre_mesures):\n",
    "        nouvelle_mesure = random.gauss(valeur,incertitude)               # génère un nombre aléatoire en suivant une loi normale\n",
    "        tableau_mesures = np.append(tableau_mesures,nouvelle_mesure)     # ajoute le nombre dans le tableau\n",
    "    return tableau_mesures    "
   ]
  },
  {
   "cell_type": "markdown",
   "metadata": {},
   "source": [
    "## 3.2. Fonction permettant de tracer l'histogramme des mesures"
   ]
  },
  {
   "cell_type": "markdown",
   "metadata": {},
   "source": [
    "<div class = 'alert alert-warning'>\n",
    "    La fonction nommée <code class = \"python\">histogramme</code> reçoit pour argument un tableau de valeurs.<br>\n",
    "    Pour tracer un histogramme, il faut faire appel à la fonction <code class = \"python\">plt.hist(<b>arg_1</b>,bins=<b>arg_2</b>,range=(<b>arg_3</b>,<b>arg_4</b>))</code><br>\n",
    "    <code class = \"python\"><b>arg_1</b></code> est le tableau des mesures, ici un tableau numpy.<br>\n",
    "    <code class = \"python\"><b>arg_2</b></code> est le nombre de classes.<br>\n",
    "    <code class = \"python\"><b>arg_3</b></code> est la valeur minimale de l'étendue représentée.<br>\n",
    "    <code class = \"python\"><b>arg_4</b></code> est la valeur maximale de l'étendue représentée.<br>\n",
    "    </div>"
   ]
  },
  {
   "cell_type": "code",
   "execution_count": null,
   "metadata": {},
   "outputs": [],
   "source": [
    "def graphe(tableau):\n",
    "    min_tab = tableau.min()\n",
    "    max_tab = tableau.max()\n",
    "    plt.hist(tableau,bins=31,range=(min_tab,max_tab))\n",
    "    plt.show"
   ]
  },
  {
   "cell_type": "markdown",
   "metadata": {},
   "source": [
    "## 3.3 Génération des mesures aléatoires."
   ]
  },
  {
   "cell_type": "markdown",
   "metadata": {},
   "source": [
    "<div class = 'alert alert-warning'>\n",
    "    Appel de la fonction  <code class = \"python\"><b>mesures_normale</b></code> pour simuler les mesures.<br>\n",
    "La fonction <code class = \"python\"><b>np.mean</b></code> renvoie la moyenne.<br></div>"
   ]
  },
  {
   "cell_type": "code",
   "execution_count": null,
   "metadata": {},
   "outputs": [],
   "source": [
    "tableau_C_mere = mesures_normale(C_mere,u_C_mere,nombre_mesures)\n",
    "moyenne_C_mere = np.mean(tableau_C_mere)\n",
    "\n",
    "tableau_V_dilue = mesures_normale(V_dilue,u_V_dilue,nombre_mesures)\n",
    "moyenne_V_dilue = np.mean(tableau_V_dilue)\n",
    "\n",
    "tableau_V_preleve = mesures_normale(V_preleve,u_V_preleve,nombre_mesures)\n",
    "moyenne_V_preleve = np.mean(tableau_V_preleve)"
   ]
  },
  {
   "cell_type": "markdown",
   "metadata": {},
   "source": [
    "## 3.4. Calcul du résultat pour chacune des mesures."
   ]
  },
  {
   "cell_type": "markdown",
   "metadata": {},
   "source": [
    "<div class = 'alert alert-warning'>\n",
    "    Pour chacune des mesures simulées, on calcule la <b>valeur-vraie</b> de la concentration de la solution diluée.<br>\n",
    "Le calcul s'effectue directement avec les tableaux numpy. Le résultat est un tableau de valeurs.\n",
    "</div>"
   ]
  },
  {
   "cell_type": "code",
   "execution_count": null,
   "metadata": {
    "scrolled": true
   },
   "outputs": [],
   "source": [
    "tableau_C_dilue_vraie = tableau_C_mere*tableau_V_preleve/tableau_V_dilue"
   ]
  },
  {
   "cell_type": "markdown",
   "metadata": {},
   "source": [
    "<div class = 'alert alert-warning'>\n",
    "On calcule la moyenne des valeurs vraies de concentration ainsi que l'écart-type sur les valeurs vraies. <br>\n",
    "    <hr>\n",
    "    La fonction <code class = \"python\"><b>np.std</b></code> renvoie l'écart-type (standard deviation).<br>\n",
    "    Compléter l'appel de la fonction <code class = \"python\"><b>graphe( )</b></code> qui permet de tracer l'histogramme des valeurs obtenues.\n",
    "     </div>"
   ]
  },
  {
   "cell_type": "code",
   "execution_count": null,
   "metadata": {},
   "outputs": [],
   "source": [
    "moyenne_C_dilue_vraie = np.mean(tableau_C_dilue_vraie)\n",
    "ecart_type_C_dilue_vraie = np.std(tableau_C_dilue_vraie)\n",
    "\n",
    "print('moyenne :',moyenne_C_dilue_vraie,'écart-type :',ecart_type_C_dilue_vraie)\n",
    "\n",
    "graphe(tableau_C_dilue_vraie)"
   ]
  },
  {
   "cell_type": "markdown",
   "metadata": {},
   "source": [
    "## 4. Comparaison de la répartition des valeurs vraies et de l'incertitude-type estimée."
   ]
  },
  {
   "cell_type": "markdown",
   "metadata": {},
   "source": [
    "<div class = 'alert alert-info'>\n",
    "On compare la moyenne des valeurs-vraies avec la valeur-cible avec son incertitude-type.\n",
    "     </div>"
   ]
  },
  {
   "cell_type": "markdown",
   "metadata": {},
   "source": [
    "<div class = 'alert alert-warning'>\n",
    "   Compléter chaque fonction <code class = \"python\"><b>print</b></code> avec les variables qui correspondent :\n",
    "</div>"
   ]
  },
  {
   "cell_type": "code",
   "execution_count": null,
   "metadata": {
    "scrolled": true
   },
   "outputs": [],
   "source": [
    "print('valeur cible = ',C_dilue,'    incertitude composée = ',u_C_dilue_type)\n",
    "print('moyenne des valeurs vraies = ',moyenne_C_dilue_vraie)"
   ]
  },
  {
   "cell_type": "markdown",
   "metadata": {},
   "source": [
    "<div class = 'alert alert-warning'>\n",
    "    <h2>Questions</h2>\n",
    "    <br>\n",
    "    Le nombre de mesures est 8 (effectif d'un groupe de TP)<br><br>\n",
    "    a) La moyenne des valeurs-vraies est-elle en accord avec la valeur-cible et son incertitude-type ?<br>\n",
    "    b) Toutes les mesures sont-elles comprise dans l'intervalle : \n",
    "    \\begin{align}\n",
    "    valeur\\,  cible\\, \\pm \\, incertitude\n",
    "    \\end{align}\n",
    "    Reprendre la simulation plusieurs fois en conservant le même nombre de mesures (<code class = \"python\">menu Kernel / Restart and run all</code>)<br>\n",
    "    c) L'accord est-il toujours bon ? \n",
    "    <hr>\n",
    "    Augmenter le nombre de mesures à 50 (effectif d'un lycée)<br>\n",
    "    Reprendre la simulation.<hr>\n",
    "    Augmenter le nombre de mesures à 500, à 5000 puis à 50000 (effectif correspondant à la France entière) et simuler les mesures.<br><br>\n",
    "    d) Quelle forme prend l'histogramme des valeurs-vraies ?<br>\n",
    "    e) Quelle hypothèse peut-on faire sur la loi de probabilité ?<br>\n",
    "    f) Comment évoluent les valeurs extrèmes lorsque le nombre de mesures augmente ?<br>\n",
    "    g) Comment évolue l'incertitude-type lorsque le nombre de mesures augmente ?<br>\n",
    "    h) L'accord est-il toujours bon ?\n",
    "     </div>"
   ]
  },
  {
   "cell_type": "markdown",
   "metadata": {
    "scrolled": false
   },
   "source": [
    "# C'est fini\n",
    "Il ne reste plus qu'à télécharger le fichier !"
   ]
  },
  {
   "cell_type": "markdown",
   "metadata": {},
   "source": [
    "<div class = 'alert alert-success'><h4>La commande suivante imprime toutes les lignes de code exécutées depuis la dernière initialisation de la page (Restart and Clear Output) <br><br>Cela permet de les copier dans Spyder ou dans un fichier .text par exemple.</h4></div>"
   ]
  },
  {
   "cell_type": "code",
   "execution_count": null,
   "metadata": {},
   "outputs": [],
   "source": [
    "%history"
   ]
  }
 ],
 "metadata": {
  "kernelspec": {
   "display_name": "Python 3",
   "language": "python",
   "name": "python3"
  },
  "language_info": {
   "codemirror_mode": {
    "name": "ipython",
    "version": 3
   },
   "file_extension": ".py",
   "mimetype": "text/x-python",
   "name": "python",
   "nbconvert_exporter": "python",
   "pygments_lexer": "ipython3",
   "version": "3.7.6"
  }
 },
 "nbformat": 4,
 "nbformat_minor": 4
}

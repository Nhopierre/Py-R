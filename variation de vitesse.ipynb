{
 "cells": [
  {
   "cell_type": "markdown",
   "metadata": {},
   "source": [
    "## Chap 11 - Mouvement et forces."
   ]
  },
  {
   "cell_type": "markdown",
   "metadata": {},
   "source": [
    "<div class = 'alert alert-info'>\n",
    "    <h1>Comment tracer le vecteur variation de vitesse ? </h1><br>\n",
    "    </div>"
   ]
  },
  {
   "cell_type": "markdown",
   "metadata": {},
   "source": [
    "<div class = 'alert alert-info'>\n",
    "Pour exécuter le code écrit dans un bloc : <b>MAJ-ENTREE </b><br>\n",
    "    Pour recommencer depuis le début : Menu <b>Kernel / Restart and clear output </b><br>\n",
    "    Toujours exécuter dans l'ordre le code  écrit dans les blocs précédés de la mention <b>Entrée  [  ]</b>\n",
    "</div>"
   ]
  },
  {
   "cell_type": "markdown",
   "metadata": {},
   "source": [
    "<div class = 'alert alert-warning'>Importation des modules de calcul et de tracé de courbe.\n",
    "    </div>"
   ]
  },
  {
   "cell_type": "code",
   "execution_count": null,
   "metadata": {},
   "outputs": [],
   "source": [
    "import numpy as np\n",
    "import matplotlib.pyplot as plt"
   ]
  },
  {
   "cell_type": "markdown",
   "metadata": {},
   "source": [
    "## 1. Mesures et données"
   ]
  },
  {
   "cell_type": "markdown",
   "metadata": {},
   "source": [
    "<div class = 'alert alert-warning'>\n",
    "    Valeurs des paramètres.<br>\n",
    "    Coordonnées de la position du point en fonction du temps\n",
    "    <hr>\n",
    "    Les valeurs sont rassemblées dans des tableaux \"numpy\" plus performants pour les calculs que de simples listes.<br>\n",
    "    </div>"
   ]
  },
  {
   "cell_type": "code",
   "execution_count": null,
   "metadata": {},
   "outputs": [],
   "source": [
    "tau = 0.05               # période des mesures exprimée en seconde\n",
    "\n",
    "y = np.array([0.4588, 0.5471, 0.6129, 0.6518, 0.6682, 0.6612, 0.6294, 0.5718, 0.4906, 0.3859, 0.2541, 0.1000])\n",
    "x = np.array([-0.1693, -0.08111, 0.002351, 0.08816, 0.1704, 0.2586, 0.3421, 0.4267, 0.5137, 0.5971, 0.6806, 0.7652])\n",
    "\n",
    "nbre = len(x)\n",
    "print ('résultat de la fonction len(x): ',nbre)"
   ]
  },
  {
   "cell_type": "markdown",
   "metadata": {},
   "source": [
    "<div class = 'alert alert-info'>\n",
    "    Question : <hr>\n",
    "    Quelle résultat renvoie la fonction <code class = \"python\">len(tableau_numpy)</code> quand on l'applique à un tableau de valeurs ?.\n",
    "    </div>"
   ]
  },
  {
   "cell_type": "markdown",
   "metadata": {},
   "source": [
    "## 2. Représentation de la trajectoire"
   ]
  },
  {
   "cell_type": "markdown",
   "metadata": {},
   "source": [
    "<div class = 'alert alert-warning'>\n",
    "    On représente la trajectoire, c'est-à-dire la courbe formée par l'ensemble des positions successives du point qui se déplace.\n",
    "    <br><br>\n",
    "    L'instruction <code class = \"python\">plt.plot(\"tableau des abscisses\", \"tableau des ordonnées\", ...)</code> permet de tracer les points dont les abscisse et les ordonnées sont des tableaux contenant plusieurs nombres. L'instruction s'applique à chaque couple de nombres issu des 2 tableaux de même taille.\n",
    "    <hr>\n",
    "    Compléter les arguments de la fonction <code class = \"python\">plt.plot( )</code>.\n",
    "    </div>"
   ]
  },
  {
   "cell_type": "code",
   "execution_count": null,
   "metadata": {},
   "outputs": [],
   "source": [
    "fig = plt.figure(1,figsize=(12,10))\n",
    "plt.grid()\n",
    "\n",
    "plt.plot(x, y ,'bo--')            # à compléter #\n",
    "\n",
    "plt.xlabel(\"x en m\")\n",
    "plt.ylabel(\"y en m\")\n",
    "axes = plt.gca()\n",
    "axes.set_aspect('equal','box')\n",
    "plt.show()\n"
   ]
  },
  {
   "cell_type": "markdown",
   "metadata": {},
   "source": [
    "## 3. Représentation du vecteur variation de vitesse en un point particulier."
   ]
  },
  {
   "cell_type": "markdown",
   "metadata": {},
   "source": [
    "<div class = 'alert alert-warning'>\n",
    "    On crée 4 tableaux remplis de 0 dans lesquels on pourra \"inscrire\" nos valeurs des coordonnées des vecteurs vitesse et variations de vitesse.\n",
    "    </div>"
   ]
  },
  {
   "cell_type": "code",
   "execution_count": null,
   "metadata": {},
   "outputs": [],
   "source": [
    "V_x = np.zeros(12)\n",
    "V_y = np.zeros(12)\n",
    "\n",
    "delta_V_x = np.zeros(12)\n",
    "delta_V_y = np.zeros(12)"
   ]
  },
  {
   "cell_type": "markdown",
   "metadata": {},
   "source": [
    "<div class = 'alert alert-warning'><h3>Coordonnées du vecteur vitesse</h3><br>\n",
    "    On calcule alors les coordonnées du vecteur vitesse moyenne entre le point précédent et le point suivant grâce aux expressions :\n",
    "    $$\n",
    "    V_{x} =    \\frac{x[i+1] - x[i-1]}{2 \\times \\tau}\n",
    "    $$\n",
    "    et\n",
    "    $$\n",
    "    V_{y} =    \\frac{y[i+1] - y[i-1]}{2 \\times \\tau}\n",
    "    $$\n",
    "    <hr>\n",
    "    Pour cela on utilise deux <b>fonctions</b> :<br>\n",
    "    La fonction <code class = \"python\">abscisse_vecteur_vitesse</code> reçoit le paramètre <code class = \"python\">i</code> qui correspond au numéro du point et retourne la valeur <code class = \"python\">V_x</code> qu'elle calcule.<br> Idem pour la fonction <code class = \"python\">ordonnee_vecteur_vitesse</code>.\n",
    "    <hr>\n",
    "    Compléter le code de la deuxième fonction.\n",
    "    </div>\n",
    "    </div>"
   ]
  },
  {
   "cell_type": "code",
   "execution_count": null,
   "metadata": {},
   "outputs": [],
   "source": [
    "def abscisse_vecteur_vitesse(i):\n",
    "    V_x = (x[i+1]-x[i-1])/ (2*tau)\n",
    "    return V_x\n",
    "\n",
    "def ordonnee_vecteur_vitesse(i):\n",
    "    V_y = (y[i+1]-y[i-1])/ (2*tau)            # à compléter #\n",
    "    return V_y                                # à compléter #"
   ]
  },
  {
   "cell_type": "markdown",
   "metadata": {},
   "source": [
    "<div class = 'alert alert-warning'>\n",
    "Par exemple, on attribue à <code class = \"python\">i</code> une certaine valeur, puis on appelle la fonction en lui passant l'argument i.<br>\n",
    "    Le résultat est placé dans le tableau <code class = \"python\">V_x</code>\n",
    "    </div>"
   ]
  },
  {
   "cell_type": "code",
   "execution_count": null,
   "metadata": {},
   "outputs": [],
   "source": [
    "i = 7\n",
    "V_x[i] = abscisse_vecteur_vitesse(i)\n",
    "V_y[i] = ordonnee_vecteur_vitesse(i)"
   ]
  },
  {
   "cell_type": "markdown",
   "metadata": {},
   "source": [
    "<div class = 'alert alert-warning'><h3>Représentation graphique du vecteur vitesse</h3><br>\n",
    "    L'instruction <code class = \"python\">plt.quiver(x[i], y[i], V_x[i], V_y[i],...)</code> représente le vecteur de coordonnées <code class = \"python\">V_x[i], V_y[i]</code>au point de coordonnées <code class = \"python\">(x[i], y[i])</code>.<br>\n",
    "    L'argument <code class = \"python\">scale</code> permet de choisir une échelle pour la représentation des vecteurs.<br>\n",
    "<div>"
   ]
  },
  {
   "cell_type": "code",
   "execution_count": null,
   "metadata": {},
   "outputs": [],
   "source": [
    "fig = plt.figure(1,figsize=(12,10))\n",
    "plt.plot(x,y,'bo--')\n",
    "plt.xlim(min(x)-0.2 ,max(x)+0.2)\n",
    "plt.ylim(min(y)-0.2 ,max(y)+0.2)\n",
    "plt.grid()\n",
    "\n",
    "plt.quiver(x[i],\n",
    "        y[i],\n",
    "        V_x[i],\n",
    "        V_y[i],\n",
    "        color=\"red\",\n",
    "        scale_units=\"xy\",\n",
    "        width=0.004,\n",
    "        scale=5,\n",
    "    )\n",
    "\n",
    "\n",
    "plt.quiver(-0.2, 0.8,1,0,color=\"green\",scale_units=\"xy\", width=0.004,scale=5,)\n",
    "plt.show()"
   ]
  },
  {
   "cell_type": "markdown",
   "metadata": {},
   "source": [
    "<div class = 'alert alert-info'>\n",
    "    Question : <hr>\n",
    "    Quelles sont les coordonnées du vecteur de couleur verte données dans l'instruction <code class = \"python\">plt.quiver(..., color=\"green\",...)</code> ?. <br>\n",
    "    Quelle est alors sa norme ? Quel est son rôle ?\n",
    "    </div>"
   ]
  },
  {
   "cell_type": "markdown",
   "metadata": {},
   "source": [
    "<div class = 'alert alert-warning'><h3>Coordonnées du vecteur variation de vitesse</h3><br>\n",
    "    On calcule les coordonnées <code class = \"python\">delta_V_x</code> et <code class = \"python\">delta_V_y</code>  à partir de l'expression\n",
    "    $$\n",
    "    \\overrightarrow{\\Delta V_i} = \\overrightarrow{ V_{i+1}}-\\overrightarrow{ V_{i-1}}\n",
    "    $$\n",
    "    qui devient pour les coordonnées :\n",
    "    $$\n",
    "    \\Delta V_{x}[i] = V_{x}[i+1] - V_{x}[i-1]\n",
    "    $$\n",
    "    et\n",
    "    $$\n",
    "    \\Delta V_{y}[i] = V_{y}[i+1] - V_{y}[i-1]\n",
    "    $$\n",
    "    </div>"
   ]
  },
  {
   "cell_type": "markdown",
   "metadata": {},
   "source": [
    "<div class = 'alert alert-info'>\n",
    "    Question : <hr>\n",
    "    Quelle(s) vitesse(s) faut-il calculer d'abord, pour détetrminer ensuite les coordonées du vecteur variation de vitesse au point <code class = \"python\">i=4</code> ? \n",
    "    </div>"
   ]
  },
  {
   "cell_type": "markdown",
   "metadata": {},
   "source": [
    "<div class = 'alert alert-warning'>\n",
    "Compléter le code pour appeler les fonctions <code class = \"python\">abscisse_vecteur_vitesse</code> et <code class = \"python\">ordonnee_vecteur_vitesse</code> et en plaçant les résulats dans les tableaux <code class = \"python\">V_x</code> et <code class = \"python\">V_y</code>.\n",
    "<hr>\n",
    "    Compléter ensuite le code qui calcule <code class = \"python\">delta_V_x[i]</code> et <code class = \"python\">delta_V_y[i]</code>\n",
    "    </div>"
   ]
  },
  {
   "cell_type": "code",
   "execution_count": null,
   "metadata": {},
   "outputs": [],
   "source": [
    "i = 3                            # à compléter, calul de la première vitesse #\n",
    "V_x[i] = abscisse_vecteur_vitesse(i)\n",
    "V_y[i] = ordonnee_vecteur_vitesse(i)\n",
    "\n",
    "i = 5                            # à compléter, calul de la deuxième vitesse #\n",
    "V_x[i] = abscisse_vecteur_vitesse(i)\n",
    "V_y[i] = ordonnee_vecteur_vitesse(i)\n",
    "\n",
    "i =  4                           # à compléter #\n",
    "delta_V_x[i]=(V_x[i+1]-V_x[i-1])                 # à compléter #\n",
    "delta_V_y[i]=(V_y[i+1]-V_y[i-1])                 # à compléter #"
   ]
  },
  {
   "cell_type": "markdown",
   "metadata": {},
   "source": [
    "<div class = 'alert alert-warning'><h3>Représentation graphique du vecteur variation de vitesse</h3><br>\n",
    "    Compléter linstruction <code class = \"python\">plt.quiver(...)</code> qui doit représenter le vecteur variation de vitesse au point i \n",
    "<div>"
   ]
  },
  {
   "cell_type": "code",
   "execution_count": null,
   "metadata": {},
   "outputs": [],
   "source": [
    "fig = plt.figure(1,figsize=(12,10))\n",
    "plt.plot(x,y,'bo--')\n",
    "plt.xlim(min(x)-0.2 ,max(x)+0.2)\n",
    "plt.ylim(min(y)-0.2 ,max(y)+0.2)\n",
    "plt.grid()\n",
    "\n",
    "\n",
    "plt.quiver(x[i],                 # à compléter #\n",
    "        y[i],                    # à compléter #\n",
    "        delta_V_x[i],                 # à compléter #\n",
    "        delta_V_y[i],                 # à compléter #\n",
    "        color=\"red\",\n",
    "        scale_units=\"xy\",\n",
    "        width=0.004,\n",
    "        scale=5,\n",
    "    )\n",
    "\n",
    "\n",
    "plt.quiver(-0.2, 0.8,1,0,color=\"green\",scale_units=\"xy\", width=0.004,scale=5,)\n",
    "plt.show()"
   ]
  },
  {
   "cell_type": "markdown",
   "metadata": {},
   "source": [
    "## 4. Calcul et tracé de la vitesse pour chaque date."
   ]
  },
  {
   "cell_type": "markdown",
   "metadata": {},
   "source": [
    "<div class = 'alert alert-info'>\n",
    "    Question\n",
    "    <hr>\n",
    "    Pourquoi ne peut-on déterminer la vitesse à la date t = 0 ?\n",
    "    </div>"
   ]
  },
  {
   "cell_type": "markdown",
   "metadata": {},
   "source": [
    "<div class = 'alert alert-warning'>\n",
    "    On boucle <code class = \"python\">for i in range (1, nbre-1)</code> repète les instructions qui suivent pour toutes   valeurs successives de <code class = \"python\">i</code> dans l'intervalle <b>[1 , nbre-1[ </b><br>\n",
    "    <hr>\n",
    "    Compléter le calcul des coordonnéespour le i-ème point <code class = \"python\">V_xi</code> et <code class = \"python\">V_yi</code> à partir des abscisses <code class = \"python\">x[...]</code> et des ordonnées <code class = \"python\">y[...]</code> des points précédent et suivant et de la durée <code class = \"python\">d_t</code>.\n",
    "    </div>"
   ]
  },
  {
   "cell_type": "code",
   "execution_count": null,
   "metadata": {},
   "outputs": [],
   "source": [
    "\n",
    "for i in range (1,(nbre-1)): \n",
    "    V_x[i]=(x[i+1]-x[i-1])/(2*tau)             # à compléter\n",
    "    \n",
    "     \n",
    "for i in range(1,(nbre-1)): \n",
    "    V_y[i]=(y[i+1]-y[i-1])/(2*tau)             # à compléter\n",
    "\n"
   ]
  },
  {
   "cell_type": "markdown",
   "metadata": {},
   "source": [
    "<div class = 'alert alert-warning'>\n",
    "    Tracé des vecteurs vitesse\n",
    "<div>"
   ]
  },
  {
   "cell_type": "code",
   "execution_count": null,
   "metadata": {},
   "outputs": [],
   "source": [
    "fig = plt.figure(1,figsize=(12,10))\n",
    "plt.plot(x,y,'bo--')\n",
    "plt.xlim(min(x)-0.2 ,max(x)+0.2)\n",
    "plt.ylim(min(y)-0.2 ,max(y)+0.2)\n",
    "plt.grid()\n",
    "\n",
    "for i in range(1,nbre-1):\n",
    "    plt.quiver(x[i],\n",
    "           y[i],\n",
    "           V_x[i],\n",
    "           V_y[i],\n",
    "           color=\"red\",\n",
    "           scale_units=\"xy\",\n",
    "           width=0.004,\n",
    "           scale=5,\n",
    "        )\n",
    "\n",
    "    \n",
    "plt.quiver(-0.2, 0.8,1,0,color=\"green\",scale_units=\"xy\", width=0.004,scale=5,)\n",
    "plt.show()"
   ]
  },
  {
   "cell_type": "markdown",
   "metadata": {},
   "source": [
    "## 5. Variation du vecteur vitesse."
   ]
  },
  {
   "cell_type": "markdown",
   "metadata": {},
   "source": [
    "<div class = 'alert alert-warning'>\n",
    "    On calcule toutes les coordonnées <code class = \"python\">delta_V_x</code> et <code class = \"python\">delta_V_y</code>  grâce à deux boucles <code class = \"python\">for i ...</code>.\n",
    "    </div>"
   ]
  },
  {
   "cell_type": "code",
   "execution_count": null,
   "metadata": {
    "scrolled": true
   },
   "outputs": [],
   "source": [
    "\n",
    "for i in range (2,(nbre-2)):\n",
    "    delta_V_x[i]=(V_x[i+1]-V_x[i-1])             # à compléter\n",
    "    \n",
    "     \n",
    "for i in range (2,(nbre-2)): \n",
    "    delta_V_y[i]=(V_y[i+1]-V_y[i-1])             # à compléter\n"
   ]
  },
  {
   "cell_type": "markdown",
   "metadata": {},
   "source": [
    "<div class = 'alert alert-warning'>\n",
    "Représentations des vecteurs variation de vitesse.\n",
    "    </div>"
   ]
  },
  {
   "cell_type": "code",
   "execution_count": null,
   "metadata": {},
   "outputs": [],
   "source": [
    "fig = plt.figure(1,figsize=(12,10))\n",
    "plt.plot(x,y,'bo--')\n",
    "plt.xlim(min(x)-0.2 ,max(x)+0.2)\n",
    "plt.ylim(min(y)-0.2 ,max(y)+0.2)\n",
    "plt.grid()\n",
    "\n",
    "for i in range(2,nbre-2):\n",
    "    plt.quiver(x[i],\n",
    "           y[i],\n",
    "           delta_V_x[i],\n",
    "           delta_V_y[i],\n",
    "           color=\"red\",\n",
    "           scale_units=\"xy\",\n",
    "           width=0.004,\n",
    "           scale=5,\n",
    "        )\n",
    "\n",
    "    \n",
    "\n",
    "plt.quiver(-0.2, 0.8,1,0,color=\"green\",scale_units=\"xy\", width=0.004,scale=5,)\n",
    "plt.show()"
   ]
  },
  {
   "cell_type": "markdown",
   "metadata": {},
   "source": [
    "# C'est fini\n",
    "Il ne reste plus qu'à télécharger le fichier !"
   ]
  },
  {
   "cell_type": "markdown",
   "metadata": {},
   "source": [
    "<div class = 'alert alert-success'><h4>La commande suivante imprime toutes les lignes de code exécutées depuis la dernière initialisation de la page (Restart and Clear Output) <br><br>Cela permet de les copier dans Spyder ou dans un fichier .text par exemple.</h4></div>"
   ]
  },
  {
   "cell_type": "code",
   "execution_count": null,
   "metadata": {},
   "outputs": [],
   "source": [
    "%history"
   ]
  }
 ],
 "metadata": {
  "kernelspec": {
   "display_name": "Python 3",
   "language": "python",
   "name": "python3"
  },
  "language_info": {
   "codemirror_mode": {
    "name": "ipython",
    "version": 3
   },
   "file_extension": ".py",
   "mimetype": "text/x-python",
   "name": "python",
   "nbconvert_exporter": "python",
   "pygments_lexer": "ipython3",
   "version": "3.7.3"
  }
 },
 "nbformat": 4,
 "nbformat_minor": 4
}

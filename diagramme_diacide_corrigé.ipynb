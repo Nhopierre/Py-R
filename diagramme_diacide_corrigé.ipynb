{
 "cells": [
  {
   "cell_type": "markdown",
   "metadata": {},
   "source": [
    "# Diagramme de distribution des espèces dérivées d'un diacide."
   ]
  },
  {
   "cell_type": "markdown",
   "metadata": {
    "raw_mimetype": "text/restructuredtext"
   },
   "source": [
    "<div class = 'alert alert-info'>\n",
    "Pour exécuter le code écrit dans un bloc : <b>MAJ-ENTREE </b><br>\n",
    "    Pour recommencer depuis le début : Menu <b>Kernel / Restart and clear output </b><br>\n",
    "    Toujours exécuter dans l'ordre le code  écrit dans les blocs précédés de la mention <b>Entrée  [  ]</b>\n",
    "</div>"
   ]
  },
  {
   "cell_type": "markdown",
   "metadata": {},
   "source": [
    "### Importation des modules de calcul et de tracé de courbe."
   ]
  },
  {
   "cell_type": "code",
   "execution_count": null,
   "metadata": {},
   "outputs": [],
   "source": [
    "import matplotlib.pyplot as plt\n",
    "%matplotlib inline\n",
    "import numpy as np"
   ]
  },
  {
   "cell_type": "markdown",
   "metadata": {},
   "source": [
    "## 1. Données"
   ]
  },
  {
   "cell_type": "markdown",
   "metadata": {},
   "source": [
    "<div class = 'alert alert-warning'>A compléter ...\n",
    "    </div>"
   ]
  },
  {
   "cell_type": "code",
   "execution_count": null,
   "metadata": {},
   "outputs": [],
   "source": [
    "pKa_1 = 4\n",
    "pKa_2 = 3.7"
   ]
  },
  {
   "cell_type": "markdown",
   "metadata": {},
   "source": [
    "## 2. Fonctions permettant de calculer les pourcentages des espèces <code class = \"python\">P_AH2</code> , <code class = \"python\">P_AH</code>et  <code class = \"python\">P_A</code>."
   ]
  },
  {
   "cell_type": "markdown",
   "metadata": {},
   "source": [
    "<div class = 'alert alert-warning'>\n",
    "   La méthode <code class = \"python\">np.arange(min ,max ,pas )</code> crée un tableau de \"numpy\" contenant les nombres compris entre <code class = \"python\">min</code> (inclus) et <code class = \"python\">max</code> (exclus). Le troisième argument <code class = \"python\">pas</code> est l'écart entre deux nombres consécutifs. \n",
    "<hr>\n",
    "    On note AH<sub>2</sub> , AH<sup>-</sup> et A<sup>2-</sup> les trois espèces présentes dans la solution.<br>\n",
    "    a) Rappeler les expressions des constantes d'acidité Ka<sub>1</sub> et Ka<sub>2</sub>. <br>\n",
    "    b) Exprimer la concentration [AH<sup>-</sup>] en fonction de [AH<sub>2</sub>].<br>\n",
    "    c) Exprimer d'autre part la concentration [AH<sup>-</sup>] en fonction de A<sup>2-</sup>.<br>\n",
    "    d) Quelle relation lie la concentration apportée C, et les concentrations [AH<sub>2</sub>] , [AH<sup>-</sup>.] et [A<sup>2-</sup>] ? .<br>\n",
    "    e) Exprimer [AH<sup>-</sup>] en fonction de C, des constantes d'acidités Ka<sub>1</sub> et Ka<sub>2</sub> et de la concentration [H<sub>3</sub>O<sup>+</sup>] uniquement.<br>\n",
    "    f) En déduire l'expression du pourcentage <code class = \"python\">P_AH</code> de l'espèce AH<sup>-</sup>.<br>\n",
    "    g) Déterminer de même les pourcentages <code class = \"python\">P_A</code> de A<sup>2-</sup> et <code class = \"python\">P_AH2</code> de AH<sub>2</sub>.\n",
    "<hr>\n",
    "    Compléter les lignes permettant de calculer :<br>\n",
    "    - <code class = \"python\">h</code>,la concentration [H<sub>3</sub>O<sup>+</sup>] <br>\n",
    "    - les constantes d'acidité notées <code class = \"python\">Ka_1</code> et <code class = \"python\">Ka_2</code>\n",
    "    <br>\n",
    "    <hr>\n",
    "    Compléter les lignes permettant :<br>\n",
    "    - de calculer les pourcentages <code class = \"python\">P_A</code> et <code class = \"python\">P_AH2</code>  <br>\n",
    "    - de tracer les courbes représentant le pourcentage de  AH<sub>2</sub> et de A<sup>2-</sup>\n",
    "    <br>\n",
    "    </div>"
   ]
  },
  {
   "cell_type": "code",
   "execution_count": null,
   "metadata": {},
   "outputs": [],
   "source": [
    "def diagramme(pKa_1,pKa_2):\n",
    "    pH = np.arange(0,15,0.1)\n",
    "    h = 10**(-pH)\n",
    "    Ka_1 = 10**(-pKa_1)\n",
    "    Ka_2 = 10**(-pKa_2)\n",
    "    \n",
    "    P_AH = Ka_1*h/(h**2+Ka_1*h+Ka_1*Ka_2)\n",
    "    P_AH2 = h**2/(h**2+Ka_1*h+Ka_1*Ka_2)\n",
    "    P_A = Ka_1*Ka_2/(h**2+Ka_1*h+Ka_1*Ka_2)\n",
    "\n",
    "    ##### tracé du diagramme   ######################################################\n",
    "    \n",
    "    plt.figure (figsize = (10,8))\n",
    "    plt.plot(pH,P_AH2,\"r+-\",label=\"acide\")\n",
    "    plt.plot(pH,P_AH,\"b+-\",label=\"base\")\n",
    "    plt.plot(pH,P_A,\"g+-\",label=\"base\")\n",
    "    plt.xlabel(\"pH\")\n",
    "    plt.ylabel(\"%\")\n",
    "    plt.legend()\n",
    "    plt.grid()\n",
    "    plt.title (\"Diagramme de distribution d'un diacide\")\n",
    "    plt.show\n",
    "    "
   ]
  },
  {
   "cell_type": "markdown",
   "metadata": {},
   "source": [
    "## 3. Tracé du diagramme de distribution"
   ]
  },
  {
   "cell_type": "markdown",
   "metadata": {},
   "source": [
    "<div class = 'alert alert-warning'>\n",
    "    Appel de la fonction <code class = \"python\">diagramme( )</code> avec passage des arguments \n",
    "    </div>"
   ]
  },
  {
   "cell_type": "code",
   "execution_count": null,
   "metadata": {},
   "outputs": [],
   "source": [
    "diagramme (pKa_1,pKa_2)"
   ]
  },
  {
   "cell_type": "markdown",
   "metadata": {},
   "source": [
    "## C'est fini\n",
    "Il ne reste plus qu'à télécharger le fichier !"
   ]
  },
  {
   "cell_type": "markdown",
   "metadata": {},
   "source": [
    "<div class = 'alert alert-success'><h4>La commande suivante imprime toutes les lignes de code exécutées depuis la dernière initialisation de la page (Restart and Clear Output) <br><br>Cela permet de les copier dans Spyder ou dans un fichier .text par exemple.</h4></div>"
   ]
  },
  {
   "cell_type": "code",
   "execution_count": null,
   "metadata": {},
   "outputs": [],
   "source": [
    "%history"
   ]
  }
 ],
 "metadata": {
  "kernelspec": {
   "display_name": "Python 3",
   "language": "python",
   "name": "python3"
  },
  "language_info": {
   "codemirror_mode": {
    "name": "ipython",
    "version": 3
   },
   "file_extension": ".py",
   "mimetype": "text/x-python",
   "name": "python",
   "nbconvert_exporter": "python",
   "pygments_lexer": "ipython3",
   "version": "3.7.6"
  }
 },
 "nbformat": 4,
 "nbformat_minor": 4
}

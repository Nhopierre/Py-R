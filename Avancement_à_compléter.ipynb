{
 "cells": [
  {
   "cell_type": "markdown",
   "metadata": {},
   "source": [
    "## Chap 02 - Evolution d'un système chimique"
   ]
  },
  {
   "cell_type": "markdown",
   "metadata": {},
   "source": [
    "<div class = 'alert alert-info'>\n",
    "    <h2>Comment construire un tableau d'avancement avec Python?</h2>\n",
    "    </div>"
   ]
  },
  {
   "cell_type": "markdown",
   "metadata": {},
   "source": [
    "<div class = 'alert alert-info'>\n",
    "Pour exécuter le code écrit dans un bloc : <b>MAJ-ENTREE </b><br>\n",
    "    Pour recommencer depuis le début : Menu <b>Kernel / Restart and clear output </b><br>\n",
    "    Toujours exécuter dans l'ordre le code  écrit dans les blocs précédés de la mention <b>Entrée  [  ]</b>\n",
    "</div>"
   ]
  },
  {
   "cell_type": "markdown",
   "metadata": {},
   "source": [
    "\n",
    "## 1. préparation."
   ]
  },
  {
   "cell_type": "markdown",
   "metadata": {},
   "source": [
    "\n",
    "<div class = 'alert alert-warning'>\n",
    "On considère la réaction entre les ions permanganate MnO<SUB>4</SUB><SUP>–</SUP> (du couple MnO<SUB>4</SUB><SUP>–</SUP>/Mn<SUP>2+</SUP>) et les ions fer II, Fe<SUP>2+</SUP> (du couple Fe<SUP>3+</SUP> /Fe<SUP>2+</SUP>).<br> \n",
    "<hr>\n",
    "a) Parmi les deux réactifs, identifier l’oxydant et le réducteur. <br>\n",
    "b) Ecrire pour chaque couple la demi-équation dans le bon sens (oxydation ou réduction) <br>\n",
    "c) En déduire l’équation de la réaction. (REA)\n",
    "    <hr>\n",
    "On suppose que l’on mélange un volume V<SUB>ox</SUB> = 100 mL de solution d’ions permanganate de concentration C<SUB>ox</SUB> = 4,0.10<SUP>–1</SUP> mol/L et un volume V<SUB>red</SUB> = 200 mL de solution d’ion fer II de concentration C<SUB>red</SUB> = 5,0.10<SUP>–1</SUP> mol/L<br>\n",
    "<hr>\n",
    "    d) Déterminer les quantités initiales de chaque réactif. (REA)\n",
    "</div>"
   ]
  },
  {
   "cell_type": "markdown",
   "metadata": {},
   "source": [
    "## 2. Evolution du système."
   ]
  },
  {
   "cell_type": "markdown",
   "metadata": {},
   "source": [
    "<div class = 'alert alert-warning'>\n",
    "a) Construire le tableau d’avancement du système en supposant que les ions hydrogène H<SUP>+</SUP> sont en excès. (REA)<br>\n",
    "b) Quel est le réactif limitant ? <br>\n",
    "c) En déduire la composition de l’état final. (REA)\n",
    "</div>"
   ]
  },
  {
   "cell_type": "markdown",
   "metadata": {},
   "source": [
    "## 3. Calcul d'un état du système avec python."
   ]
  },
  {
   "cell_type": "markdown",
   "metadata": {},
   "source": [
    "#### Quantités initiales de réactifs en mmol\n",
    "<div class = 'alert alert-warning'>\n",
    "Compléter les quantités initiales de réactifs et de produits exprimées en mmol\n",
    "</div>"
   ]
  },
  {
   "cell_type": "code",
   "execution_count": null,
   "metadata": {},
   "outputs": [],
   "source": [
    "qte_initiale_ionFeII = \n",
    "qte_initiale_MnO4 = \n",
    "qte_initiale_ionH = "
   ]
  },
  {
   "cell_type": "markdown",
   "metadata": {},
   "source": [
    "#### Quantités initiales de produits en mmol"
   ]
  },
  {
   "cell_type": "code",
   "execution_count": null,
   "metadata": {},
   "outputs": [],
   "source": [
    "qte_initiale_ionFeIII = \n",
    "qte_initiale_ionMn = \n",
    "qte_initiale_H2O = "
   ]
  },
  {
   "cell_type": "markdown",
   "metadata": {},
   "source": [
    "### Avancement"
   ]
  },
  {
   "cell_type": "code",
   "execution_count": null,
   "metadata": {},
   "outputs": [],
   "source": [
    "x = 0"
   ]
  },
  {
   "cell_type": "markdown",
   "metadata": {},
   "source": [
    "#### Fonction calculant la composition d'un état particulier\n",
    "<div class = 'alert alert-warning'>\n",
    "Compléter la fonction nommée <code class = \"python\">état_particulier( )</code> avec les instructions qui permettront de calculer les quantités de matière de chaque espèce présente dans le système pour un avancement <code class = \"python\">x</code> à la fonction. \n",
    "    </div>"
   ]
  },
  {
   "cell_type": "code",
   "execution_count": null,
   "metadata": {},
   "outputs": [],
   "source": [
    "def etat_particulier(x):\n",
    "    qte_ionFeII = qte_initiale_ionFeII ...\n",
    "    qte_MnO4 = qte_initiale_MnO4 \n",
    "    qte_ionH = qte_initiale_ionH \n",
    "    qte_ionFeIII = qte_initiale_ionFeIII \n",
    "    qte_ionMn = qte_initiale_ionMn \n",
    "    qte_H2O = qte_initiale_H2O \n",
    "    \n",
    "    #Sortie  #############################\n",
    "    print(\"pour x =\",x,\" n(Fe2+)=\",qte_ionFeII,\" n(MnO4-)=\",qte_MnO4,\" n(H+)=\",qte_ionH,\" n(Fe3+)=\",qte_ionFeIII,\" n(Mn2+)=\",qte_ionMn)"
   ]
  },
  {
   "cell_type": "markdown",
   "metadata": {},
   "source": [
    "#### Détermination de la valeur maximale de l'avancement et du réactif limitant\n",
    "<div class = 'alert alert-warning'>\n",
    "- Vérifier la bonne exécution du programme pour x = 0. (VAL)<br>\n",
    "- Choisir une autre valeur de x et exécuter le programme. Vérifier la cohérence des résultats. (VAL)\n",
    "</div>"
   ]
  },
  {
   "cell_type": "markdown",
   "metadata": {},
   "source": [
    "## 4. Evolution des quantités de matière de chaque espèce. Création d’un tableau de valeur"
   ]
  },
  {
   "cell_type": "markdown",
   "metadata": {},
   "source": [
    "<div class = 'alert alert-warning'>\n",
    "Compléter le bloc de code avec une boucle <code class = \"python\">for ...</code> qui calcule les différents états du système au cours de son évolution depuis l’état initial (x = 0) jusqu’à la valeur maximale de x<sub>final</sub> choisie. (REA)<br>\n",
    "La boucle fera appel à la fonction <code class = \"python\">état_particulier( )</code>.\n",
    "    </div>"
   ]
  },
  {
   "cell_type": "code",
   "execution_count": null,
   "metadata": {},
   "outputs": [],
   "source": [
    "x_final = \n",
    "\n",
    "for x in range(0,x_final):\n",
    "    ...                               # appel de la fonction"
   ]
  },
  {
   "cell_type": "markdown",
   "metadata": {},
   "source": [
    "<div class = 'alert alert-warning'>\n",
    "Quelle est la valeur de x<sub>max</sub>? (Attention cette valeur doit être entière.) (VAL)\n",
    "    </div>"
   ]
  },
  {
   "cell_type": "markdown",
   "metadata": {},
   "source": [
    "## 5. Recherche du réactif limitant."
   ]
  },
  {
   "cell_type": "markdown",
   "metadata": {},
   "source": [
    "<div class = 'alert alert-warning'>\n",
    "- Comment calculer la valeur maximale de l’avancement si l’on suppose que l’ion Fer II est le réactif limitant ?<br>\n",
    "- Compléter la ligne qui permet de calculer <code class = \"python\">x_max_ionFeII</code>.<br>\n",
    "- Même question pour <code class = \"python\">x_max_MnO4</code> (hypothèse : ion permanganate limitant)\n",
    "    </div>"
   ]
  },
  {
   "cell_type": "code",
   "execution_count": null,
   "metadata": {},
   "outputs": [],
   "source": [
    "x_max_ionFeII = qte_initiale_ionFeII...\n",
    "x_max_MnO4 = ...\n"
   ]
  },
  {
   "cell_type": "markdown",
   "metadata": {},
   "source": [
    "<div class = 'alert alert-warning'>\n",
    "Compléter le programme avec un test conditionnel <br>\n",
    "<code class = \"python\">if … : </code>&nbsp;&nbsp;&nbsp;&nbsp;&nbsp;&nbsp; Si ..., alors...<br>\n",
    "    <code class = \"python\">elif … : </code>   sinon si ... ,alors ...<br>\n",
    "    <code class = \"python\">else :</code>&nbsp;&nbsp;&nbsp;&nbsp;&nbsp;&nbsp; sinon ... <br>\n",
    "qui conserve la bonne valeur de x<sub>max</sub>.\n",
    "</div>"
   ]
  },
  {
   "cell_type": "code",
   "execution_count": null,
   "metadata": {},
   "outputs": [],
   "source": [
    "if ... :\n",
    "    print(\"le réactif limitant est Fe2+ et x_max = \",x_max_ionFeII,\" mmol\")\n",
    "    x_max = x_max_ionFeII\n",
    "elif ... :\n",
    "    print(\"le réactif limitant est MnO4- et x_max = \",x_max_MnO4,\" mmol\")\n",
    "    x_max = x_max_MnO4\n",
    "else:\n",
    "    print(\"le mélange est ... et x_max = \",x_max_MnO4,\" mmol\"\n"
   ]
  },
  {
   "cell_type": "markdown",
   "metadata": {},
   "source": [
    "<div class = 'alert alert-warning'>Exécuter le dernier bloc appelant la fonction <code class = \"python\">état_particulier( )</code> en lui passant l'argument <code class = \"python\">x_max</code> et vérifier vos résultats.</div>"
   ]
  },
  {
   "cell_type": "code",
   "execution_count": null,
   "metadata": {},
   "outputs": [],
   "source": [
    "etat_particulier(x_max)"
   ]
  },
  {
   "cell_type": "markdown",
   "metadata": {},
   "source": [
    "# C'est fini\n",
    "Il ne reste plus qu'à télécharger le fichier !"
   ]
  },
  {
   "cell_type": "markdown",
   "metadata": {},
   "source": [
    "<div class = 'alert alert-success'><h4>La commande suivante imprime toutes les lignes de code exécutées depuis la dernière initialisation de la page (Restart and Clear Output) <br><br>Cela permet de les copier dans Spyder ou dans un fichier .text par exemple.</h4></div>"
   ]
  },
  {
   "cell_type": "code",
   "execution_count": null,
   "metadata": {},
   "outputs": [],
   "source": [
    "%history"
   ]
  }
 ],
 "metadata": {
  "kernelspec": {
   "display_name": "Python 3",
   "language": "python",
   "name": "python3"
  },
  "language_info": {
   "codemirror_mode": {
    "name": "ipython",
    "version": 3
   },
   "file_extension": ".py",
   "mimetype": "text/x-python",
   "name": "python",
   "nbconvert_exporter": "python",
   "pygments_lexer": "ipython3",
   "version": "3.7.6"
  }
 },
 "nbformat": 4,
 "nbformat_minor": 4
}

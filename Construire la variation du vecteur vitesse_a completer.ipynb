{
 "cells": [
  {
   "cell_type": "markdown",
   "metadata": {},
   "source": [
    "# Chap 11 - Mouvement et forces."
   ]
  },
  {
   "cell_type": "markdown",
   "metadata": {},
   "source": [
    "<div class = 'alert alert-info'>\n",
    "    <h1>Comment construire un vecteur vitesse avec Python ? </h1><br>\n",
    "    <h2>Comment construire la variation du vecteur vitesse ?</h2>\n",
    "    </div>"
   ]
  },
  {
   "cell_type": "markdown",
   "metadata": {},
   "source": [
    "<div class = 'alert alert-info'>\n",
    "Pour exécuter le code écrit dans un bloc : <b>MAJ-ENTREE </b><br>\n",
    "    Pour recommencer depuis le début : Menu <b>Kernel / Restart and clear output </b><br>\n",
    "    Toujours exécuter dans l'ordre le code  écrit dans les blocs précédés de la mention <b>Entrée  [  ]</b>\n",
    "</div>"
   ]
  },
  {
   "cell_type": "markdown",
   "metadata": {},
   "source": [
    "<div class = 'alert alert-warning'>Importation des modules de calcul et de tracé de courbe.\n",
    "    </div>"
   ]
  },
  {
   "cell_type": "code",
   "execution_count": null,
   "metadata": {},
   "outputs": [],
   "source": [
    "import numpy as np\n",
    "import matplotlib.pyplot as plt"
   ]
  },
  {
   "cell_type": "markdown",
   "metadata": {},
   "source": [
    "## 1. Mesures et données"
   ]
  },
  {
   "cell_type": "markdown",
   "metadata": {},
   "source": [
    "<div class = 'alert alert-warning'>\n",
    "    Valeurs des paramètres.<br>\n",
    "    Coordonnées de la position du point en fonction du temps\n",
    "    <hr>\n",
    "    Les valeurs sont rassemblées dans des tableaux \"numpy\" plus performants pour les calculs que de simples listes.<br>\n",
    "    La fonction <code class = \"python\">len(tableau_numpy)</code> donne le nombre d'éléments du tableau.\n",
    "    </div>"
   ]
  },
  {
   "cell_type": "code",
   "execution_count": null,
   "metadata": {},
   "outputs": [],
   "source": [
    "masse = 1.2             # masse en kg\n",
    "d_t = 0.1               # période des mesures exprimée en seconde\n",
    "n_c = 0\n",
    "\n",
    "x=np.array([0.01,0.41,0.91,1.39,1.86,2.33,2.81,3.33,3.83,4.31,4.83,5.36,5.86,6.34,6.77])\n",
    "y=np.array([0.01,0.52,1.01,1.42,1.77,2.02,2.16,2.19,2.13,1.96,1.71,1.38,0.97,0.50,0])\n",
    "\n",
    "nbre = len(x)"
   ]
  },
  {
   "cell_type": "markdown",
   "metadata": {},
   "source": [
    "## 2. Représentation de la trajectoire"
   ]
  },
  {
   "cell_type": "markdown",
   "metadata": {},
   "source": [
    "<div class = 'alert alert-warning'>\n",
    "    On représente la trajectoire, c'est-à-dire la courbe formée par l'ensemble des positions successives du point qui se déplace.<br>\n",
    "    <hr>\n",
    "    Compléter les 2 premiers arguments de la fonction <code class = \"python\">plt.plot( )</code>.\n",
    "    </div>"
   ]
  },
  {
   "cell_type": "code",
   "execution_count": null,
   "metadata": {},
   "outputs": [],
   "source": [
    "plt.figure (figsize = (12,12))\n",
    "plt.grid()\n",
    "plt.plot(  ,  ,'bo--')            # à compléter\n",
    "plt.xlabel(\"x en m\")\n",
    "plt.ylabel(\"y en m\")\n",
    "axes = plt.gca()\n",
    "axes.set_aspect('equal','box')\n",
    "plt.show()\n"
   ]
  },
  {
   "cell_type": "markdown",
   "metadata": {},
   "source": [
    "## 3. Calcul de la vitesse pour chaque date."
   ]
  },
  {
   "cell_type": "markdown",
   "metadata": {},
   "source": [
    "<div class = 'alert alert-warning'>\n",
    "    On commence par créer deux tableaux \"numpy\" vides.<br>\n",
    "    <hr>\n",
    "    Pourquoi ne peut-on déterminer la vitesse à la date t = 0 ?\n",
    "    </div>"
   ]
  },
  {
   "cell_type": "code",
   "execution_count": null,
   "metadata": {},
   "outputs": [],
   "source": [
    "V_x=np.array([])\n",
    "V_y=np.array([])\n",
    "\n",
    "V_x0 = n_c\n",
    "V_y0 = n_c\n",
    "V_xf = n_c\n",
    "V_yf = n_c\n",
    "V_x = np.append(V_x,V_x0)\n",
    "V_y = np.append(V_y,V_y0)"
   ]
  },
  {
   "cell_type": "markdown",
   "metadata": {},
   "source": [
    "<div class = 'alert alert-warning'>\n",
    "    Calcul des coordonnées du vecteur vitesse.<br>\n",
    "    Les valeurs sont ensuite ajoutées dans les tableaux <code class = \"python\">V_x</code> et <code class = \"python\">V_y</code>\n",
    "    <hr>\n",
    "    Compléter le calcul des coordonnéespour le i-ème point <code class = \"python\">V_xi</code> et <code class = \"python\">V_yi</code> à partir des abscisses <code class = \"python\">x[...]</code> et des ordonnées <code class = \"python\">y[...]</code> des points précédent et suivant et de la durée <code class = \"python\">d_t</code>.\n",
    "    </div>"
   ]
  },
  {
   "cell_type": "code",
   "execution_count": null,
   "metadata": {},
   "outputs": [],
   "source": [
    "\n",
    "for i in range (1,(nbre-1)): \n",
    "    V_xi =                              # à compléter\n",
    "    V_x = np.append(V_x,V_xi)\n",
    "    \n",
    "     \n",
    "for i in range(1,(nbre-1)): \n",
    "    V_yi =                              # à compléter\n",
    "    V_y = np.append(V_y,V_yi)\n",
    "    \n",
    "V_x = np.append(V_x,V_xf)\n",
    "V_y = np.append(V_y,V_yf)"
   ]
  },
  {
   "cell_type": "markdown",
   "metadata": {},
   "source": [
    "## 4. Représentation des vecteurs vitesse."
   ]
  },
  {
   "cell_type": "markdown",
   "metadata": {},
   "source": [
    "<div class = 'alert alert-warning'>\n",
    "    On représente la trajectoire et les vecteurs vitesse.<br>\n",
    "    La fonction <code class = \"python\">plt.quiver(x[i],y[i],V_x[i],V_y[i],color='r',scale = 20)</code> permet de tracer des vecteurs à partir de l'origine <code class = \"python\">(x[i],y[i])</code>.<br>\n",
    "    Le vecteur a pour coordonnées : <code class = \"python\">(V_x[i],V_y[i])</code><br>\n",
    "    Les autres arguments de la fonctions <code class = \"python\">color='r',scale = 20</code> permettent de mettre en forme la représentation.\n",
    "    </div>"
   ]
  },
  {
   "cell_type": "code",
   "execution_count": null,
   "metadata": {},
   "outputs": [],
   "source": [
    "plt.figure (figsize = (12,12))\n",
    "plt.grid()\n",
    "plt.axis([0,7,0,4])\n",
    "plt.plot(x,y,'bo--')\n",
    "plt.xlabel(\"x en m\")\n",
    "plt.ylabel(\"y en m\")\n",
    "axes = plt.gca()\n",
    "axes.set_aspect('equal','box')    \n",
    "\n",
    "for i in range (1,(nbre-1),3):\n",
    "    plt.quiver(x[i],y[i],V_x[i],V_y[i],color='r',scale = 20)\n",
    "    \n",
    "plt.show()"
   ]
  },
  {
   "cell_type": "markdown",
   "metadata": {},
   "source": [
    "<div class = 'alert alert-warning'>\n",
    "    a) Quelle est l'instruction qui indique que les vecteurs sont tracés à partir du 2<sup>ième</sup> point jusqu'à l'avant dernier?<br>\n",
    "    b) Changer la valeur de l'argument de la fonction <code class = \"python\">range(  )</code> pour tracer un vecteur vitesse tous les deux points et vérifier votre modification en exécutante le bloc à nouveau.\n",
    "    </div>"
   ]
  },
  {
   "cell_type": "markdown",
   "metadata": {},
   "source": [
    "## 5. Calcul de la variation de vitesse pour chaque date."
   ]
  },
  {
   "cell_type": "code",
   "execution_count": null,
   "metadata": {},
   "outputs": [],
   "source": [
    "Delta_V_x=np.array([])\n",
    "Delta_V_y=np.array([])\n",
    "\n",
    "Delta_V_x0 = n_c\n",
    "Delta_V_y0 = n_c\n",
    "Delta_V_xf = n_c\n",
    "Delta_V_yf = n_c\n",
    "Delta_V_x = np.append(Delta_V_x,Delta_V_x0)\n",
    "Delta_V_y = np.append(Delta_V_y,Delta_V_y0)\n"
   ]
  },
  {
   "cell_type": "markdown",
   "metadata": {},
   "source": [
    "<div class = 'alert alert-warning'>\n",
    "    Calcul des coordonnées de la variation du vecteur vitesse.<br>\n",
    "    Les valeurs sont ensuite ajoutées dans les tableaux <code class = \"python\">Delta_V_x</code> et <code class = \"python\">Delta_V_y</code>\n",
    "    <hr>\n",
    "    Compléter le calcul des coordonnées pour le i-ème point <code class = \"python\">Delta_V_xi</code> et <code class = \"python\">Delta_V_yi</code> à partir des coordonnées du vecteur vitesse <code class = \"python\">V_x[...]</code> et <code class = \"python\">V_y[...]</code> des points précédent et suivant.\n",
    "    </div>"
   ]
  },
  {
   "cell_type": "code",
   "execution_count": null,
   "metadata": {},
   "outputs": [],
   "source": [
    "\n",
    "for i in range (1,(nbre-1)): \n",
    "    Delta_V_xi=                           # à compléter \n",
    "    Delta_V_x = np.append(Delta_V_x,Delta_V_xi)\n",
    "    \n",
    "     \n",
    "for i in range(1,(nbre-1)): \n",
    "    Delta_V_yi=                           # à compléter \n",
    "    Delta_V_y = np.append(Delta_V_y,Delta_V_yi)\n",
    "    \n",
    "Delta_V_x = np.append(Delta_V_x,Delta_V_xf)\n",
    "Delta_V_y = np.append(Delta_V_y,Delta_V_yf)"
   ]
  },
  {
   "cell_type": "markdown",
   "metadata": {},
   "source": [
    "<div class = 'alert alert-warning'>\n",
    "    Représentation de :<br>\n",
    "    - la trajectoire<br>\n",
    "    - la vitesse<br>\n",
    "    - la variation du vecteur vitesse.<br>\n",
    "    <hr>\n",
    "    Compléter la fonction <code class = \"python\">plt.quiver(        ,color='r',scale = 20)</code> permettant de tracer la variation du vecteur vitesse à partir du i-ième point\n",
    "    </div>"
   ]
  },
  {
   "cell_type": "code",
   "execution_count": null,
   "metadata": {},
   "outputs": [],
   "source": [
    "plt.figure (figsize = (12,12))\n",
    "plt.grid()\n",
    "plt.axis([0,7,0,4])\n",
    "plt.plot(x,y,'bo--')\n",
    "plt.xlabel(\"x en m\")\n",
    "plt.ylabel(\"y en m\")\n",
    "axes = plt.gca()\n",
    "axes.set_aspect('equal','box')    \n",
    "\n",
    "for i in range (1,(nbre-1),2):\n",
    "    plt.quiver(x[i],y[i],V_x[i],V_y[i],color='r',scale = 20)\n",
    "\n",
    "for i in range (2,(nbre-2),2):\n",
    "    plt.quiver(                          ,color='g',scale = 20)              # à compléter\n",
    "\n",
    "plt.show()"
   ]
  },
  {
   "cell_type": "markdown",
   "metadata": {},
   "source": [
    "# C'est fini\n",
    "Il ne reste plus qu'à télécharger le fichier !"
   ]
  },
  {
   "cell_type": "markdown",
   "metadata": {},
   "source": [
    "<div class = 'alert alert-success'><h4>La commande suivante imprime toutes les lignes de code exécutées depuis la dernière initialisation de la page (Restart and Clear Output) <br><br>Cela permet de les copier dans Spyder ou dans un fichier .text par exemple.</h4></div>"
   ]
  },
  {
   "cell_type": "code",
   "execution_count": null,
   "metadata": {},
   "outputs": [],
   "source": [
    "%history"
   ]
  }
 ],
 "metadata": {
  "kernelspec": {
   "display_name": "Python 3",
   "language": "python",
   "name": "python3"
  },
  "language_info": {
   "codemirror_mode": {
    "name": "ipython",
    "version": 3
   },
   "file_extension": ".py",
   "mimetype": "text/x-python",
   "name": "python",
   "nbconvert_exporter": "python",
   "pygments_lexer": "ipython3",
   "version": "3.7.6"
  }
 },
 "nbformat": 4,
 "nbformat_minor": 4
}

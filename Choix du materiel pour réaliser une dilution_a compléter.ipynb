{
 "cells": [
  {
   "cell_type": "markdown",
   "metadata": {},
   "source": [
    "# Choisir la verrerie pour effectuer une dilution"
   ]
  },
  {
   "cell_type": "markdown",
   "metadata": {},
   "source": [
    "<div class = 'alert alert-info'>\n",
    "Pour exécuter le code écrit dans un bloc : <b>MAJ-ENTREE </b><br>\n",
    "    Pour recommencer depuis le début : Menu <b>Kernel / Restart and clear output </b><br>\n",
    "    Toujours exécuter dans l'ordre le code  écrit dans les blocs précédés de la mention <b>Entrée  [  ]</b>\n",
    "</div>"
   ]
  },
  {
   "cell_type": "markdown",
   "metadata": {},
   "source": [
    "## liste du matériel"
   ]
  },
  {
   "cell_type": "markdown",
   "metadata": {},
   "source": [
    "<div class = 'alert alert-warning'>\n",
    "    Compléter les listes suivantes avec le matériel disponible\n",
    "    </div>"
   ]
  },
  {
   "cell_type": "code",
   "execution_count": null,
   "metadata": {},
   "outputs": [],
   "source": [
    "liste_volume_fiole = [1000, ..., 50]  # contenance en millilitres\n",
    "liste_volume_pipette = [25, ..., 1 ]       # contenance en millilitres"
   ]
  },
  {
   "cell_type": "markdown",
   "metadata": {},
   "source": [
    "choix du facteur de dilution par l'utilisateur"
   ]
  },
  {
   "cell_type": "code",
   "execution_count": null,
   "metadata": {},
   "outputs": [],
   "source": [
    "fact_dilution_a_atteindre = float(input(\"Quel est votre facteur de dilution ?  \"))"
   ]
  },
  {
   "cell_type": "markdown",
   "metadata": {},
   "source": [
    "### fonction qui calcule le facteur de dilution \n",
    "à partir des arguments volume_pipette et volume_fiole "
   ]
  },
  {
   "cell_type": "markdown",
   "metadata": {},
   "source": [
    "<div class = 'alert alert-warning'>\n",
    "    Complétez la fonction en utilisant les paramètres <code class = \"python\">volume_pipette</code> et <code class = \"python\">volume_fiole</code>\n",
    "    </div>"
   ]
  },
  {
   "cell_type": "code",
   "execution_count": null,
   "metadata": {},
   "outputs": [],
   "source": [
    "def facteur_dilution(volume_pipette, volume_fiole):\n",
    "    F = ...                                     # à compléter\n",
    "    return F"
   ]
  },
  {
   "cell_type": "markdown",
   "metadata": {},
   "source": [
    "La variable resultat garde la valeur <code class = \"python\">False</code> tant que le bonne verrerie n'a pas été trouvée "
   ]
  },
  {
   "cell_type": "code",
   "execution_count": null,
   "metadata": {},
   "outputs": [],
   "source": [
    "resultat = False\n",
    "\n",
    "print('-----------------------------------------------------------------')\n",
    "print('Le facteur de dilution est de ',fact_dilution_a_atteindre)"
   ]
  },
  {
   "cell_type": "markdown",
   "metadata": {},
   "source": [
    "## Boucle qui permet de tester tous les couples (pipette, fiole) disponibles"
   ]
  },
  {
   "cell_type": "code",
   "execution_count": null,
   "metadata": {},
   "outputs": [],
   "source": [
    "for i in range (len(liste_volume_fiole)):\n",
    "    for k in range (len(liste_volume_pipette)):\n",
    "        F = facteur_dilution(liste_volume_pipette[k],liste_volume_fiole[i])\n",
    "                                                # appel de la fonction \"facteur_dilution\" \n",
    "                                                # et passage des valeurs de volume d'un couple (pipette, fiole)\n",
    "\n",
    "            # test vérifier si la valeur F calculée diffère de facteur de dilution à atteindre\n",
    "            # si la différence est inférieure à 2 %, le choix de verrerie est acceptable\n",
    "        if abs(F - fact_dilution_a_atteindre) < F*2/100 :\n",
    "            print('Vous pouvez utilisez une pipette de',\n",
    "                  liste_volume_pipette[k],'mL et une fiole de',\n",
    "                  liste_volume_fiole[i],\" mL\")\n",
    "            resultat = True\n",
    "\n",
    "if resultat == False:\n",
    "    print('Impossible avec le matériel disponible')"
   ]
  },
  {
   "cell_type": "markdown",
   "metadata": {},
   "source": [
    "## Questions"
   ]
  },
  {
   "cell_type": "markdown",
   "metadata": {},
   "source": [
    "<div class = 'alert alert-warning'>\n",
    "    a) Quel est le rôle de la première boucle « for i in range… » ? </div>"
   ]
  },
  {
   "cell_type": "markdown",
   "metadata": {},
   "source": [
    "réponse"
   ]
  },
  {
   "cell_type": "markdown",
   "metadata": {},
   "source": [
    "<div class = 'alert alert-warning'>\n",
    "    b) Quelle est le rôle de la deuxième boucle « for k in range… » imbriquée dans la première ?</div>"
   ]
  },
  {
   "cell_type": "markdown",
   "metadata": {},
   "source": [
    "réponse"
   ]
  },
  {
   "cell_type": "markdown",
   "metadata": {},
   "source": [
    "<div class = 'alert alert-warning'>\n",
    "c) Aurait-on pu inverser l’ordre des 2 boucles ?</div>"
   ]
  },
  {
   "cell_type": "markdown",
   "metadata": {},
   "source": [
    "réponse"
   ]
  },
  {
   "cell_type": "markdown",
   "metadata": {},
   "source": [
    "<div class = 'alert alert-warning'>\n",
    "d) Quelle est la valeur initiale de la valeur « resultat » ?</div>"
   ]
  },
  {
   "cell_type": "markdown",
   "metadata": {},
   "source": [
    "réponse"
   ]
  },
  {
   "cell_type": "markdown",
   "metadata": {},
   "source": [
    "<div class = 'alert alert-warning'>\n",
    "e) Dans quel cas sa valeur sa valeur est-elle modifiée ? Quelle est son rôle ?</div>"
   ]
  },
  {
   "cell_type": "markdown",
   "metadata": {},
   "source": [
    "réponse"
   ]
  }
 ],
 "metadata": {
  "kernelspec": {
   "display_name": "Python 3",
   "language": "python",
   "name": "python3"
  },
  "language_info": {
   "codemirror_mode": {
    "name": "ipython",
    "version": 3
   },
   "file_extension": ".py",
   "mimetype": "text/x-python",
   "name": "python",
   "nbconvert_exporter": "python",
   "pygments_lexer": "ipython3",
   "version": "3.7.6"
  }
 },
 "nbformat": 4,
 "nbformat_minor": 4
}

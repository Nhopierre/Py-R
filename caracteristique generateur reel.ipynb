{
 "cells": [
  {
   "cell_type": "markdown",
   "metadata": {},
   "source": [
    "# Tracé de la caractéristique courant-tension d'une source de tension"
   ]
  },
  {
   "cell_type": "markdown",
   "metadata": {},
   "source": [
    "<div class = 'alert alert-warning'>Importation des modules de calcul et de tracé de courbe.\n",
    "    </div>"
   ]
  },
  {
   "cell_type": "code",
   "execution_count": null,
   "metadata": {},
   "outputs": [],
   "source": [
    "# import de la bibliothèque numpy (gestion de matrices et routines mathématiques) en lui donnant le surnom np\n",
    "import numpy as np\n",
    "# import de la bibliothèque matplotlib (graphiques) en lui donnant le surnom plt\n",
    "import matplotlib.pyplot as plt"
   ]
  },
  {
   "cell_type": "markdown",
   "metadata": {},
   "source": [
    "<div class = 'alert alert-warning'>Tableaux des valeurs des mesures de tension et de l'intensité du courant délivré par une pile en V et en A\n",
    "    </div>"
   ]
  },
  {
   "cell_type": "code",
   "execution_count": null,
   "metadata": {
    "scrolled": true
   },
   "outputs": [],
   "source": [
    "U_V = np.array([2.38, 2.33, 2.26, 2.21, 2.17, 2.13, 2.09, 2.01, 1.87, 1.62, 1.52, 1.44, 1.37, 1.28, 1.23, 1.18])\n",
    "I_mA = np.array([0, 0.05, 0.16, 0.25, 0.32, 0.37, 0.46, 0.56, 0.79, 1.2, 1.42, 1.49, 1.6, 1.73, 1.82, 1.89 ])\n",
    "\n",
    "I_A = I_mA * 10**(-3)"
   ]
  },
  {
   "cell_type": "markdown",
   "metadata": {},
   "source": [
    "<div class = 'alert alert-warning'>\n",
    "    Utilisation de la fonction <code class = \"python\">plot</code> pour tracer la courbe.<br>\n",
    "<code class = \"python\">plot</code> reçoit 3 arguments : <br>\n",
    "- la liste des valeurs en abscisses contenues dans un tableau numpy : <code class = \"python\">np.array([])</code><br>\n",
    "- la liste des valeurs en ordonnées contenues dans un tableau numpy.<br>\n",
    "- une chaîne de caractère qui précise le type de marquage : <code class = \"python\">\"bo\"</code> pour \"gros point bleu\"\n",
    "    </div>"
   ]
  },
  {
   "cell_type": "code",
   "execution_count": null,
   "metadata": {},
   "outputs": [],
   "source": [
    "plt.plot(I_A, U_V,\"bo\")\n",
    "\n",
    "plt.show() # affiche la figure a l'ecran"
   ]
  },
  {
   "cell_type": "markdown",
   "metadata": {},
   "source": [
    " <div class = 'alert alert-warning'><h4>Amélioration de la présentation du graphe</h4></div>"
   ]
  },
  {
   "cell_type": "code",
   "execution_count": null,
   "metadata": {},
   "outputs": [],
   "source": [
    "# Tracé de la caractéristique avec titre, axes et unités\n",
    "\n",
    "plt.plot(I_A, U_V, \"bo\")\n",
    "\n",
    "# Ecriture scientifique pour l'affichage de l'intensité\n",
    "plt.ticklabel_format(style='scientific', axis='x', scilimits=(0,0))\n",
    "plt.xlabel(\"I (A)\")\n",
    "plt.ylabel(\"U (V)\")\n",
    "\n",
    "plt.title(\"Tension délivrée en fonction de l'intensité du courant\")\n",
    "plt.show()\n"
   ]
  },
  {
   "cell_type": "markdown",
   "metadata": {},
   "source": [
    "<div class = 'alert alert-warning'><h3>Importation de la fonction <code class = \"python\">linregress</code> du module <code class = \"python\">scipy.stats</code></h3></div>"
   ]
  },
  {
   "cell_type": "code",
   "execution_count": null,
   "metadata": {
    "scrolled": true
   },
   "outputs": [],
   "source": [
    "# import de la bibliothèque pour faire une régression linéaire\n",
    "\n",
    "from scipy.stats import linregress\n",
    "\n"
   ]
  },
  {
   "cell_type": "markdown",
   "metadata": {},
   "source": [
    "## Modélisation par une droite affine\n"
   ]
  },
  {
   "cell_type": "markdown",
   "metadata": {},
   "source": [
    "<div class = 'alert alert-warning'>\n",
    "Calcul du coefficient directeur et de l'ordonnée à l'origine de la droite obtenue par regression linéaire (méthode qui minimise la distance entre les points et la droite)\n",
    "</div>"
   ]
  },
  {
   "cell_type": "code",
   "execution_count": null,
   "metadata": {},
   "outputs": [],
   "source": [
    "# Regression linéaire pour la modélisation\n",
    "regression=linregress(I_A,U_V)\n",
    "pente=regression[0]\n",
    "ordonnee_origine = regression[1]\n",
    "\n",
    "print (\"E_g = \",ordonnee_origine,\"V\")\n",
    "print (\"r_g = \",abs(pente), chr(937))\n"
   ]
  },
  {
   "cell_type": "markdown",
   "metadata": {},
   "source": [
    "<div class = 'alert alert-warning'><h4>Mise en forme du résultat</h4></div>"
   ]
  },
  {
   "cell_type": "code",
   "execution_count": null,
   "metadata": {},
   "outputs": [],
   "source": [
    "pente_a = round(pente,2)\n",
    "ordonnee_origine_a = round (ordonnee_origine,2)\n",
    "\n",
    "print (\"E_g = \",ordonnee_origine_a,\"V\")\n",
    "print (\"r_g = \",abs(pente_a), chr(937))"
   ]
  },
  {
   "cell_type": "markdown",
   "metadata": {},
   "source": [
    "<div class = 'alert alert-warning'><h4>Tracé de la droite modélisant la relation entre la tension et l'intensité</h4></div>"
   ]
  },
  {
   "cell_type": "code",
   "execution_count": null,
   "metadata": {},
   "outputs": [],
   "source": [
    "# On veut tracer la régression linéaire sur les points issus des données\n",
    "# valeur minimum des abscisses  \n",
    "mn=np.min(I_A)\n",
    "# valeur maximum des abscisses \n",
    "mx=np.max(I_A)\n",
    "\n",
    "I_mod = np.array([mn,mx])\n",
    "U_mod=ordonnee_origine + pente*I_mod\n",
    "\n",
    "plt.plot(I_mod, U_mod,'-or', label=\"modélisation des données\")\n",
    "plt.plot(I_A, U_V, \"b.\", label=\"données expérimentales\")\n",
    "# Ecriture scientifique pour l'affichage de l'intensité\n",
    "plt.ticklabel_format(style='scientific', axis='x', scilimits=(0,0))\n",
    "plt.xlabel(\"I (A)\")\n",
    "plt.ylabel(\"U (V)\")\n",
    "plt.legend() \n",
    "plt.title(\"Tension délivrée en fonction de l'intensité appelée\")\n",
    "\n",
    "plt.show() "
   ]
  },
  {
   "cell_type": "markdown",
   "metadata": {},
   "source": [
    "<div class = 'alert alert-warning'><h4>Mise en forme du graphe</h4></div>"
   ]
  },
  {
   "cell_type": "code",
   "execution_count": null,
   "metadata": {},
   "outputs": [],
   "source": [
    "# Tracé avec affichage de l'équation de la droite\n",
    "plt.plot(I_mod, U_mod,'-r',label=\"modélisation des données\")\n",
    "plt.plot(I_A, U_V, \"bo\", label=\"données expérimentales\")\n",
    "# Ecriture scientifique pour l'affichage de l'intensité\n",
    "plt.ticklabel_format(style='scientific', axis='x', scilimits=(0,0))\n",
    "plt.xlabel(\"I (A)\")\n",
    "plt.ylabel(\"U (V)\")\n",
    "plt.legend() \n",
    "plt.title(\"Tension délivrée en fonction de l'intensité appelée\")\n",
    "\n",
    "# Affichage de la pente et de l'ordonnée à l'origine sur le graphique\n",
    "#(le signe multiplié est codé par le caractère Unicode 215) dans une boite de texte.\n",
    "# On renseigne les coordonnées d'affichage de la boite de texte et le texte à afficher\n",
    "plt.text(0.0001,1.2,\"U=\" + str(ordonnee_origine_a)+ str(pente_a)+ chr(215)+\"I\"\n",
    "        ,size=12,  \n",
    "         # On crée une boite aux coins ronds, au bord noir et remplie en cyan \n",
    "         bbox=dict(boxstyle=\"round\",ec=(\"k\"),fc=(\"c\")))\n",
    "\n",
    "plt.savefig('source-tension_U_I.png')"
   ]
  }
 ],
 "metadata": {
  "kernelspec": {
   "display_name": "Python 3",
   "language": "python",
   "name": "python3"
  },
  "language_info": {
   "codemirror_mode": {
    "name": "ipython",
    "version": 3
   },
   "file_extension": ".py",
   "mimetype": "text/x-python",
   "name": "python",
   "nbconvert_exporter": "python",
   "pygments_lexer": "ipython3",
   "version": "3.7.6"
  }
 },
 "nbformat": 4,
 "nbformat_minor": 2
}

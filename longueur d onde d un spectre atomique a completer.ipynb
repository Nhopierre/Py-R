{
 "cells": [
  {
   "cell_type": "markdown",
   "metadata": {},
   "source": [
    "# Ce programme détermine les longueurs d'onde des raies du spectre à partir des niveaux d'énergie de l'atome\n"
   ]
  },
  {
   "cell_type": "markdown",
   "metadata": {},
   "source": [
    "<div class = 'alert alert-info'>\n",
    "Pour exécuter le code écrit dans un bloc : <b>MAJ-ENTREE </b><br>\n",
    "    Pour recommencer depuis le début : Menu <b>Kernel / Restart and clear output </b><br>\n",
    "    Toujours exécuter dans l'ordre le code  écrit dans les blocs précédés de la mention <b>Entrée  [  ]</b>\n",
    "</div>"
   ]
  },
  {
   "cell_type": "markdown",
   "metadata": {},
   "source": [
    "### importation du module de calcul numpy"
   ]
  },
  {
   "cell_type": "code",
   "execution_count": null,
   "metadata": {},
   "outputs": [],
   "source": [
    "import numpy as np"
   ]
  },
  {
   "cell_type": "markdown",
   "metadata": {},
   "source": [
    "### Constantes physiques"
   ]
  },
  {
   "cell_type": "markdown",
   "metadata": {},
   "source": [
    "<div class = 'alert alert-warning'>\n",
    "Compléter les valeurs des constantes physiques.\n",
    "<hr>\n",
    "Rappel :<br>\n",
    "    Pour écrire un nombre à l'aide d'une puissance de 10, on utilise le format  <code class = \"python\">314 = 3.14e2</code>\n",
    "</div>"
   ]
  },
  {
   "cell_type": "code",
   "execution_count": null,
   "metadata": {},
   "outputs": [],
   "source": [
    "h_Planck = ...                  # constante de Planck en J.s\n",
    "c_lumière = ...                 # vitesse de la lumière en m/s\n",
    "e_J_eV = ...                    # 1 électronvolt exprimé en joule"
   ]
  },
  {
   "cell_type": "markdown",
   "metadata": {},
   "source": [
    "### liste des niveaux d'énergie de l'atome dans un tableau numpy (np.array).\n",
    "Les valeurs sont exprimées en électronvolts et classées par valeurs décroissantes"
   ]
  },
  {
   "cell_type": "markdown",
   "metadata": {},
   "source": [
    "<div class = 'alert alert-warning'>\n",
    "Saisir les valeurs d’énergie dans le tableau numpy :<br>\n",
    "    <code class = \"python\">np.array([… , … , … ,   ])</code>\n",
    "<hr>\n",
    "la fonction <code class = \"python\">liste.sort()</code> permet de classer les éléments de <code class = \"python\">liste</code>.</div>"
   ]
  },
  {
   "cell_type": "code",
   "execution_count": null,
   "metadata": {},
   "outputs": [],
   "source": [
    "liste_niveaux = np.array([0, ...])\n",
    "liste_niveaux.sort()\n",
    "print(liste_niveaux)    # affiche les niveaux"
   ]
  },
  {
   "cell_type": "markdown",
   "metadata": {},
   "source": [
    "## Fonction calculant la longueur d'onde exprimée par un nombre entier en nm (nanomètre) à partir d'une énergie E en eV"
   ]
  },
  {
   "cell_type": "markdown",
   "metadata": {},
   "source": [
    "<div class = 'alert alert-warning'>\n",
    "Compléter les lignes permettant de <br>\n",
    "    - convertir l'énergie en joules<br>\n",
    "    - calculer la longueur d'onde correspondante<br>\n",
    "    - la convertir en nanomètre<br>\n",
    "<hr>\n",
    "Utilisez les constantes définies : <code class = \"python\">c_lumière</code>, <code class = \"python\">h_Planck</code>, et <code class = \"python\">E_en_J</code>\n",
    "</div>"
   ]
  },
  {
   "cell_type": "code",
   "execution_count": null,
   "metadata": {},
   "outputs": [],
   "source": [
    "def longueur_d_onde (E):\n",
    "    E_en_J = ...                                  # conversion en joules\n",
    "    lambda_en_m = ...                             # calcul de la longueur d'onde\n",
    "    lambda_en_nm = ...                            # conversion en nanomètre\n",
    "    return int(lambda_en_nm)                      # retourne la valeur entière\n"
   ]
  },
  {
   "cell_type": "markdown",
   "metadata": {},
   "source": [
    "## Programme principal"
   ]
  },
  {
   "cell_type": "markdown",
   "metadata": {},
   "source": [
    "Création d'un tableau vide     "
   ]
  },
  {
   "cell_type": "code",
   "execution_count": null,
   "metadata": {},
   "outputs": [],
   "source": [
    "liste_lambda = np.array([])"
   ]
  },
  {
   "cell_type": "markdown",
   "metadata": {},
   "source": [
    "Boucles permettant de calculer toutes les longueurs d'onde"
   ]
  },
  {
   "cell_type": "markdown",
   "metadata": {},
   "source": [
    "<div class = 'alert alert-warning'>\n",
    "Compléter les trois lignes qui<br>\n",
    "    - calcule la variation d'énergie <code class = \"python\">delta_E</code><br>\n",
    "    - appelle la  fonction permettant de calculer la longueur d'onde correspondante<br>\n",
    "    - ajoute la valeur <code class = \"python\">nouveau_lambda</code> à la liste \n",
    "<hr>\n",
    "Aide :<br>\n",
    "- La k-ème valeur d’un tableau s’écrit :   <code class = \"python\">nom_tableau[k]</code>   <br>\n",
    "- Pour ajouter une nouvelle valeur dans un tableau numpy, on utilise l’instruction : <code class = \"python\">nom_tableau = np.append(nom_tableau, nouvelle_valeur)</code>\n",
    "</div>"
   ]
  },
  {
   "cell_type": "code",
   "execution_count": null,
   "metadata": {},
   "outputs": [],
   "source": [
    "for i in range (0,len(liste_niveaux)):                 # pour la i-éme énergie de la liste\n",
    "    for j in range (i+1,len(liste_niveaux)):           # pour la j-ème énergie avec j>i\n",
    "        delta_E = ...                                  # calcul la variation d'énergie \n",
    "                                                           # entre les niveaux i et j\n",
    "        nouveau_lambda = ...                           # appelle la fonction longueur_d_onde() \n",
    "                                                           # pour la nouvelle longueur d'onde correspondant à delta_E\n",
    "        liste_lambda = np.append(liste_lambda,nouveau_lambda)   \n",
    "                                                       # ajoute la longueur d'onde à la liste \n"
   ]
  },
  {
   "cell_type": "markdown",
   "metadata": {},
   "source": [
    "la fonction <code class = \"python\">liste.sort()</code> permet de classer les éléments de <code class = \"python\">liste</code>."
   ]
  },
  {
   "cell_type": "code",
   "execution_count": null,
   "metadata": {
    "scrolled": true
   },
   "outputs": [],
   "source": [
    "liste_lambda.sort()        # classe les valeurs de la liste par ordre croissant\n",
    "print(liste_lambda)        # affiche la liste des longueurs d'onde\n"
   ]
  },
  {
   "cell_type": "code",
   "execution_count": null,
   "metadata": {},
   "outputs": [],
   "source": []
  }
 ],
 "metadata": {
  "kernelspec": {
   "display_name": "Python 3",
   "language": "python",
   "name": "python3"
  },
  "language_info": {
   "codemirror_mode": {
    "name": "ipython",
    "version": 3
   },
   "file_extension": ".py",
   "mimetype": "text/x-python",
   "name": "python",
   "nbconvert_exporter": "python",
   "pygments_lexer": "ipython3",
   "version": "3.7.6"
  }
 },
 "nbformat": 4,
 "nbformat_minor": 2
}

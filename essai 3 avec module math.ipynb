{
 "cells": [
  {
   "cell_type": "markdown",
   "metadata": {},
   "source": [
    "# Comment calculer les fréquences de la gamme de Pythagore et de la gamme tempérée"
   ]
  },
  {
   "cell_type": "code",
   "execution_count": 1,
   "metadata": {},
   "outputs": [
    {
     "name": "stdout",
     "output_type": "stream",
     "text": [
      "0.014279481289787285\n"
     ]
    }
   ],
   "source": [
    "import math\n",
    "\n",
    "note_1 = 440\n",
    "y = math.sin(2*math.pi*1/note_1)\n",
    "print(y)"
   ]
  },
  {
   "cell_type": "markdown",
   "metadata": {},
   "source": [
    "Fonction calculant les fréquences de la gamme de pythagore pour les stocker dans une liste."
   ]
  },
  {
   "cell_type": "code",
   "execution_count": null,
   "metadata": {},
   "outputs": [],
   "source": [
    "def gamme_pythagore(freq_initial):\n",
    "    gamme = []                      # Création d'une liste vide\n",
    "    gamme.append(freq_initial)      # écriture de la première valeur dans la liste\n",
    "    \n",
    "    frequence = freq_initial\n",
    "    for i in range(1,12):\n",
    "        frequence = frequence * 3/2\n",
    "        if frequence > freq_initial*2:\n",
    "            frequence = frequence/2\n",
    "        gamme.append(frequence)\n",
    "            \n",
    "    gamme.append(freq_initial*2)\n",
    "    gamme.sort()\n",
    "    \n",
    "    return gamme\n",
    "    \n",
    "    "
   ]
  },
  {
   "cell_type": "markdown",
   "metadata": {},
   "source": [
    "Appel de la fonction avec le paramètre note_1 \n",
    "Affecte la liste des fréquences à la variable gamme_p"
   ]
  },
  {
   "cell_type": "code",
   "execution_count": null,
   "metadata": {},
   "outputs": [],
   "source": [
    "gamme_p = gamme_pythagore(note_1) "
   ]
  },
  {
   "cell_type": "markdown",
   "metadata": {},
   "source": [
    "Impression des valeurs contenues dans la liste gamme_p"
   ]
  },
  {
   "cell_type": "code",
   "execution_count": null,
   "metadata": {},
   "outputs": [],
   "source": [
    "for i in range (0, len(gamme_p)):\n",
    "    print(gamme_p[i])"
   ]
  },
  {
   "cell_type": "markdown",
   "metadata": {},
   "source": [
    "# C'est fini"
   ]
  }
 ],
 "metadata": {
  "kernelspec": {
   "display_name": "Python 3",
   "language": "python",
   "name": "python3"
  },
  "language_info": {
   "codemirror_mode": {
    "name": "ipython",
    "version": 3
   },
   "file_extension": ".py",
   "mimetype": "text/x-python",
   "name": "python",
   "nbconvert_exporter": "python",
   "pygments_lexer": "ipython3",
   "version": "3.7.6"
  }
 },
 "nbformat": 4,
 "nbformat_minor": 4
}

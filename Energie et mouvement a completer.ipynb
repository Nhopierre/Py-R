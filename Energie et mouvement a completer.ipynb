{
 "cells": [
  {
   "cell_type": "markdown",
   "metadata": {},
   "source": [
    "## Chap 14 - Mouvement et énergie."
   ]
  },
  {
   "cell_type": "markdown",
   "metadata": {},
   "source": [
    "<div class = 'alert alert-info'>\n",
    "    <h1>Comment évolue les énergies d'un solide en mouvement ? </h1><br>\n",
    "    </div>"
   ]
  },
  {
   "cell_type": "markdown",
   "metadata": {},
   "source": [
    "<div class = 'alert alert-info'>\n",
    "Pour exécuter le code écrit dans un bloc : <b>MAJ-ENTREE </b><br>\n",
    "    Pour recommencer depuis le début : Menu <b>Kernel / Restart and clear output </b><br>\n",
    "    Toujours exécuter dans l'ordre le code  écrit dans les blocs précédés de la mention <b>Entrée  [  ]</b>\n",
    "</div>"
   ]
  },
  {
   "cell_type": "markdown",
   "metadata": {},
   "source": [
    "<div class = 'alert alert-warning'>Importation des modules de calcul et de tracé de courbe.\n",
    "    </div>"
   ]
  },
  {
   "cell_type": "code",
   "execution_count": null,
   "metadata": {},
   "outputs": [],
   "source": [
    "import numpy as np\n",
    "import matplotlib.pyplot as plt"
   ]
  },
  {
   "cell_type": "markdown",
   "metadata": {},
   "source": [
    "## 1. Mesures et données"
   ]
  },
  {
   "cell_type": "markdown",
   "metadata": {},
   "source": [
    "<div class = 'alert alert-warning'>\n",
    "    Valeurs des paramètres.<br>\n",
    "    Coordonnées de la position du point en fonction du temps\n",
    "    <hr>\n",
    "    Les valeurs sont rassemblées dans des tableaux \"numpy\" plus performants pour les calculs que de simples listes.<br>\n",
    "    La fonction <code class = \"python\">len(tableau_numpy)</code> donne le nombre d'éléments du tableau.\n",
    "    </div>"
   ]
  },
  {
   "cell_type": "code",
   "execution_count": null,
   "metadata": {},
   "outputs": [],
   "source": [
    "masse = 1.2             # masse en kg\n",
    "d_t = 0.1               # période des mesures exprimée en seconde\n",
    "g = 9.81                # intensité du champ de pesanteur en N/kg\n",
    "n_c = 0\n",
    "\n",
    "x=np.array([0.01,0.41,0.91,1.39,1.86,2.33,2.81,3.33,3.83,4.31,4.83,5.36,5.86,6.34,6.77])\n",
    "y=np.array([0.01,0.52,1.01,1.42,1.77,2.02,2.16,2.19,2.13,1.96,1.71,1.38,0.97,0.50,0])\n",
    "\n",
    "nbre = len(x)"
   ]
  },
  {
   "cell_type": "markdown",
   "metadata": {},
   "source": [
    "## 2. Représentation de la trajectoire"
   ]
  },
  {
   "cell_type": "markdown",
   "metadata": {},
   "source": [
    "<div class = 'alert alert-warning'>\n",
    "    On représente la trajectoire, c'est-à-dire la courbe formée par l'ensemble des positions successives du point qui se déplace.<br>\n",
    "    <hr>\n",
    "    Compléter les arguments de la fonction <code class = \"python\">plt.plot( )</code>.\n",
    "    </div>"
   ]
  },
  {
   "cell_type": "code",
   "execution_count": null,
   "metadata": {},
   "outputs": [],
   "source": [
    "plt.figure (figsize = (12,12))\n",
    "plt.grid()\n",
    "plt.plot(   ,   ,'bo--')            # à compléter\n",
    "plt.xlabel(\"x en m\")\n",
    "plt.ylabel(\"y en m\")\n",
    "axes = plt.gca()\n",
    "axes.set_aspect('equal','box')\n",
    "plt.show()\n"
   ]
  },
  {
   "cell_type": "markdown",
   "metadata": {},
   "source": [
    "## 3. Calcul de la vitesse pour chaque date."
   ]
  },
  {
   "cell_type": "markdown",
   "metadata": {},
   "source": [
    "<div class = 'alert alert-warning'>\n",
    "    On commence par créer deux tableaux \"numpy\" vides.<br>\n",
    "    <hr>\n",
    "    Pourquoi ne peut-on déterminer la vitesse à la date t = 0 ?\n",
    "    </div>"
   ]
  },
  {
   "cell_type": "code",
   "execution_count": null,
   "metadata": {},
   "outputs": [],
   "source": [
    "V_x=np.array([])\n",
    "V_y=np.array([])"
   ]
  },
  {
   "cell_type": "markdown",
   "metadata": {},
   "source": [
    "<div class = 'alert alert-warning'>\n",
    "    Calcul des coordonnées du vecteur vitesse.<br>\n",
    "    Les valeurs sont ensuite ajoutées dans les tableaux <code class = \"python\">V_x</code> et <code class = \"python\">V_y</code>\n",
    "    <hr>\n",
    "    Compléter le calcul des coordonnéespour le i-ème point <code class = \"python\">V_xi</code> et <code class = \"python\">V_yi</code> à partir des abscisses <code class = \"python\">x[...]</code> et des ordonnées <code class = \"python\">y[...]</code> des points précédent et suivant et de la durée <code class = \"python\">d_t</code>.\n",
    "    </div>"
   ]
  },
  {
   "cell_type": "code",
   "execution_count": null,
   "metadata": {},
   "outputs": [],
   "source": [
    "\n",
    "for i in range (1,(nbre-1)): \n",
    "    V_xi =                                # à compléter\n",
    "    V_x = np.append(V_x,V_xi)\n",
    "    \n",
    "     \n",
    "for i in range(1,(nbre-1)): \n",
    "    V_yi =                                # à compléter\n",
    "    V_y = np.append(V_y,V_yi)\n"
   ]
  },
  {
   "cell_type": "markdown",
   "metadata": {},
   "source": [
    "## 4. Energie cinétique et potentielle."
   ]
  },
  {
   "cell_type": "markdown",
   "metadata": {},
   "source": [
    "On calcule l'énergie cinétique du solide"
   ]
  },
  {
   "cell_type": "markdown",
   "metadata": {},
   "source": [
    "<div class = 'alert alert-warning'>\n",
    "    a) Compléter le calcul de la norme <code class = \"python\">V</code> de la vitesse en utilisant directementy les tableaux de \"numpy\".<br>\n",
    "    b) Calculer les valeurs du tableau <code class = \"python\">E_c</code> de l'énergie cinétique.\n",
    "    </div>"
   ]
  },
  {
   "cell_type": "code",
   "execution_count": null,
   "metadata": {},
   "outputs": [],
   "source": [
    "V =                                  # à compléter\n",
    "E_c =                                # à compléter"
   ]
  },
  {
   "cell_type": "markdown",
   "metadata": {},
   "source": [
    "<div class = 'alert alert-warning'>\n",
    "c) Compléter la ligne permettant de calculer les valeurs du tableau <code class = \"python\">E_p</code> de l'énergie potentielle à partir du tableau <code class = \"python\">y_r</code>.\n",
    "    </div>"
   ]
  },
  {
   "cell_type": "code",
   "execution_count": null,
   "metadata": {},
   "outputs": [],
   "source": [
    "x_r = x[1:-1]               # permet d'enlever le premier et le dernier point du tableau\n",
    "y_r = y[1:-1]\n",
    "\n",
    "E_p =                                # à compléter"
   ]
  },
  {
   "cell_type": "markdown",
   "metadata": {},
   "source": [
    "<div class = 'alert alert-warning'>\n",
    "    d) Calculer l'énergie mécanique <code class = \"python\">E_m</code><br>\n",
    "    </div>"
   ]
  },
  {
   "cell_type": "code",
   "execution_count": null,
   "metadata": {
    "scrolled": true
   },
   "outputs": [],
   "source": [
    "E_m =                                # à compléter"
   ]
  },
  {
   "cell_type": "markdown",
   "metadata": {},
   "source": [
    "<div class = 'alert alert-warning'>\n",
    "    e) Rajouter les deux lignes permettant de représenter les énergies potentielle et mécanique.<br>\n",
    "    <hr>\n",
    " Les arguments de la fonction <code class = \"python\">plt.plot( )</code> sont :<br>\n",
    "    - le tableau des abscisses<br>\n",
    "    - le tableau des ordonnées<br>\n",
    "    - la mise en forme des points et de la courbe : <code class = \"python\">'b'</code>=blue, <code class = \"python\">'g'</code>=green, <code class = \"python\">'r'</code>=red, <code class = \"python\">'o'</code>=points, <code class = \"python\">'+'</code>= croix, <code class = \"python\">'--'</code>=pointillé\n",
    "    </div>"
   ]
  },
  {
   "cell_type": "code",
   "execution_count": null,
   "metadata": {},
   "outputs": [],
   "source": [
    "plt.figure (figsize = (10,10))\n",
    "plt.grid()\n",
    "\n",
    "plt.plot(x_r,E_c,'bo--')\n",
    "                                   # ligne manquante\n",
    "                                   # ligne manquante\n",
    "plt.xlabel(\"x en m\")\n",
    "plt.ylabel(\"y en m\")\n",
    "\n",
    "plt.show()"
   ]
  },
  {
   "cell_type": "markdown",
   "metadata": {},
   "source": [
    "# C'est fini\n",
    "Il ne reste plus qu'à télécharger le fichier !"
   ]
  },
  {
   "cell_type": "markdown",
   "metadata": {},
   "source": [
    "<div class = 'alert alert-success'><h4>La commande suivante imprime toutes les lignes de code exécutées depuis la dernière initialisation de la page (Restart and Clear Output) <br><br>Cela permet de les copier dans Spyder ou dans un fichier .text par exemple.</h4></div>"
   ]
  },
  {
   "cell_type": "code",
   "execution_count": null,
   "metadata": {},
   "outputs": [],
   "source": [
    "%history"
   ]
  }
 ],
 "metadata": {
  "kernelspec": {
   "display_name": "Python 3",
   "language": "python",
   "name": "python3"
  },
  "language_info": {
   "codemirror_mode": {
    "name": "ipython",
    "version": 3
   },
   "file_extension": ".py",
   "mimetype": "text/x-python",
   "name": "python",
   "nbconvert_exporter": "python",
   "pygments_lexer": "ipython3",
   "version": "3.7.6"
  }
 },
 "nbformat": 4,
 "nbformat_minor": 4
}

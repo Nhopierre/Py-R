{
 "cells": [
  {
   "cell_type": "markdown",
   "metadata": {},
   "source": [
    "# Décroissance radioactive"
   ]
  },
  {
   "cell_type": "markdown",
   "metadata": {},
   "source": [
    "<div class = 'alert alert-info'>\n",
    "Pour exécuter le code écrit dans un bloc : <b>MAJ-ENTREE </b><br>\n",
    "    Pour recommencer depuis le début : Menu <b>Kernel / Restart and clear output </b><br>\n",
    "    Toujours exécuter dans l'ordre le code  écrit dans les blocs précédés de la mention <b>Entrée  [  ]</b>\n",
    "</div>"
   ]
  },
  {
   "cell_type": "markdown",
   "metadata": {},
   "source": [
    "<div class = 'alert alert-warning'>Importation des modules de calcul et de tracé de courbe.\n",
    "    </div>"
   ]
  },
  {
   "cell_type": "code",
   "execution_count": null,
   "metadata": {},
   "outputs": [],
   "source": [
    "import math \n",
    "import numpy as np\n",
    "import matplotlib.pylab as plt\n",
    "from scipy.stats import linregress"
   ]
  },
  {
   "cell_type": "markdown",
   "metadata": {},
   "source": [
    "<div class = 'alert alert-warning'><h3>Mesures de l'activité d'une population de noyaux radioactifs.</h3><br>\n",
    "    On dispose de mesures de l'activité radioactive effectuées sur une population de noyaux de radon 220.<br>\n",
    "    Les mesures ont été rassemblées dans les deux listes <code class = \"python\">A_mesure</code> et <code class = \"python\">t_mesure</code> correspondant aux activités mesurées et aux dates respectives.\n",
    "</div>"
   ]
  },
  {
   "cell_type": "code",
   "execution_count": null,
   "metadata": {},
   "outputs": [],
   "source": [
    "t_mesure = [0, 7, 14, 21, 28, 35, 42, 49, 56, 63,\n",
    "            70, 77, 84, 91, 98, 105, 112, 119, 126, 133, 140, 147, 154, 161, 168]\n",
    "t_max = max(t_mesure)\n",
    "A_mesure = [230, 189, 196, 160, 150, 150, 131, 124, 100,\n",
    "            105, 91, 80, 81, 72, 70, 55, 50, 51, 45, 46, 44, 31, 34, 26, 31]"
   ]
  },
  {
   "cell_type": "code",
   "execution_count": null,
   "metadata": {},
   "outputs": [],
   "source": [
    "plt.plot(t_mesure, A_mesure, \"+\",color=\"blue\")"
   ]
  },
  {
   "cell_type": "markdown",
   "metadata": {},
   "source": [
    "<div class = 'alert alert-warning'><h3>Constante radioactive.</h3><br>\n",
    "    L'activité A(t) est le nombre de désintégration par unité de temps dans une population de noyaux radioactifs.<br>\n",
    "    Elle correspond donc \n",
    "    $$\n",
    "    A(t) = - \\frac {dN(t)} {dt}\n",
    "    $$\n",
    "    <br>\n",
    "    La constante radioactive λ d'un noyau relie le nombre de noyaux présents et l'activité.\n",
    "    $$\n",
    "    A(t) = \\lambda \\times N(t)\n",
    "    $$\n",
    "    l'activité s'exprime en Becquerel (Bq) et la constante radioactive en s<sup>-1</sup>.\n",
    "    <hr>\n",
    "    Montrer que\n",
    "    $$\n",
    "    \\frac{ dA(t)}{dt} = - \\lambda \\times A(t) \n",
    "    $$\n",
    "   \n",
    "</div>"
   ]
  },
  {
   "cell_type": "markdown",
   "metadata": {},
   "source": [
    "<div class = 'alert alert-warning'>Valeur de la constante radioactive du radon 220\n",
    "    </div>"
   ]
  },
  {
   "cell_type": "code",
   "execution_count": null,
   "metadata": {},
   "outputs": [],
   "source": [
    "lambda_Rn = 0.0125     # en s-1"
   ]
  },
  {
   "cell_type": "markdown",
   "metadata": {},
   "source": [
    "## Modélisation par la méthode d'Euler."
   ]
  },
  {
   "cell_type": "markdown",
   "metadata": {},
   "source": [
    "<div class = 'alert alert-warning'>\n",
    "  <H3>Méthode d'Euler</H3><br>  \n",
    "   La méthode d'Euler donne une approximation de la valeur de A à la date t+Δt en considérant que A(t) va s'accroître de \n",
    "    $$\n",
    "    \\frac{ dA(t)}{dt}  \\times \\Delta t \n",
    "    $$\n",
    "    <br>c'est-à-dire\n",
    "    $$\n",
    "    A(t + \\Delta t) = A(t) + \\frac{ dA(t)}{dt}  \\times \\Delta t \n",
    "    $$\n",
    "    <br>  <br> \n",
    "    A partir du résultat de la question précédente, on peut \n",
    "    écrire la valeur de l'activité A à la date t+Δt en fonction de A(t) et de son taux d'accroissement.\n",
    "    $$\n",
    "    A(t + \\Delta t ) = A(t) - \\lambda \\times A(t)  \\times \\Delta t\n",
    "    $$\n",
    "    </div>"
   ]
  },
  {
   "cell_type": "markdown",
   "metadata": {},
   "source": [
    "<div class = 'alert alert-warning'>\n",
    "    Le code ci-dessous définit une fonction nommée <code class = \"python\">methode_d_euler</code> reçoit les arguments: <br>\n",
    "    - <code class = \"python\">A_0</code> première valeur de A   <br>\n",
    "    - <code class = \"python\">nbr_de_pas</code> qui correspond au nombre de points qui seront calculés   <br>\n",
    "    - <code class = \"python\">pas</code> qui correspond au pas de calcul   <br>\n",
    "A chaque itération des boucles <code class = \"python\">for ...</code>, la fonction calcule la valeur suivante de A(t) et de t et les placent dans les deux tableaux <code class = \"python\">A</code> et <code class = \"python\">t</code>"
   ]
  },
  {
   "cell_type": "code",
   "execution_count": null,
   "metadata": {},
   "outputs": [],
   "source": [
    "def methode_d_euler(A_0, nbr_de_pas, pas):\n",
    "    A = np.zeros(nbr_de_pas)        # créations de 2 tableaux \"numpy\" ne contenant  \n",
    "    t = np.zeros(nbr_de_pas)        # que des zéros (taille : nbr_de_pas)\n",
    "    \n",
    "    date = 0                        # initialisation des valeurs\n",
    "    activite = A_0\n",
    "    \n",
    "    for i in range(nbr_de_pas):    \n",
    "        A[i] = activite\n",
    "        activite = A[i]-lambda_Rn*A[i]*pas\n",
    "\n",
    "    for i in range(nbr_de_pas):    \n",
    "        t[i] = date\n",
    "        date = t[i] + pas\n",
    "        \n",
    "    return A, t"
   ]
  },
  {
   "cell_type": "markdown",
   "metadata": {},
   "source": [
    "## Modélisation de l'activité d'une population de radon 220."
   ]
  },
  {
   "cell_type": "markdown",
   "metadata": {},
   "source": [
    "<div class = 'alert alert-warning'>Définition du nombre de points calculés et du pas de calcul (qui correspond à Δt)\n",
    "    </div>"
   ]
  },
  {
   "cell_type": "code",
   "execution_count": null,
   "metadata": {},
   "outputs": [],
   "source": [
    "nombre_points = 2\n",
    "Delta_t = t_max/nombre_points"
   ]
  },
  {
   "cell_type": "markdown",
   "metadata": {},
   "source": [
    "<div class = 'alert alert-warning'>Appel de la fonction <code class = \"python\">methode_d_euler</code> et passage des arguments. <br>\n",
    "    Les résultats sont attribués aux deux tableaux <code class = \"python\">A_calculee</code> et <code class = \"python\">date</code>.\n",
    "    </div>"
   ]
  },
  {
   "cell_type": "code",
   "execution_count": null,
   "metadata": {},
   "outputs": [],
   "source": [
    "A_calculee, date = methode_d_euler(A_mesure[0] , nombre_points, Delta_t)\n"
   ]
  },
  {
   "cell_type": "markdown",
   "metadata": {},
   "source": [
    "<div class = 'alert alert-warning'>Représentation graphique des valeurs mesurées et des valeurs calculées par la modélistaion\n",
    "    </div>"
   ]
  },
  {
   "cell_type": "code",
   "execution_count": null,
   "metadata": {
    "scrolled": true
   },
   "outputs": [],
   "source": [
    "\n",
    "plt.plot(t_mesure, A_mesure, \"+\",color=\"blue\")\n",
    "plt.plot(date, A_calculee, \".\", color=\"red\")\n"
   ]
  },
  {
   "cell_type": "markdown",
   "metadata": {},
   "source": [
    "<div class = 'alert alert-warning'>\n",
    "    Questions\n",
    "    <hr>\n",
    "    <i>\n",
    "       </i></div>"
   ]
  },
  {
   "cell_type": "markdown",
   "metadata": {},
   "source": [
    "C'est fini\n",
    "\n",
    "Il ne reste plus qu'à télécharger le fichier !\n"
   ]
  },
  {
   "cell_type": "markdown",
   "metadata": {},
   "source": [
    "<div class = 'alert alert-success'><h4>La commande suivante imprime toutes les lignes de code exécutées depuis la dernière initialisation de la page (Restart and Clear Output) <br><br>Cela permet de les copier dans Spyder ou dans un fichier .text par exemple.</h4></div>"
   ]
  },
  {
   "cell_type": "code",
   "execution_count": null,
   "metadata": {},
   "outputs": [],
   "source": [
    "%history"
   ]
  },
  {
   "cell_type": "code",
   "execution_count": null,
   "metadata": {},
   "outputs": [],
   "source": []
  }
 ],
 "metadata": {
  "kernelspec": {
   "display_name": "Python 3",
   "language": "python",
   "name": "python3"
  },
  "language_info": {
   "codemirror_mode": {
    "name": "ipython",
    "version": 3
   },
   "file_extension": ".py",
   "mimetype": "text/x-python",
   "name": "python",
   "nbconvert_exporter": "python",
   "pygments_lexer": "ipython3",
   "version": "3.7.6"
  }
 },
 "nbformat": 4,
 "nbformat_minor": 4
}
